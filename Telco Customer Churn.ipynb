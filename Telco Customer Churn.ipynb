{
 "cells": [
  {
   "cell_type": "markdown",
   "id": "924a955c",
   "metadata": {},
   "source": [
    "# Use Case\n",
    "#### Use Case Summary\n",
    "#### Objective Statement:\n",
    "- Determine the churn rate of the customer base.\n",
    "- Identify factors that are associated with churn, such as gender, senior citizen status, partner status, dependents, number of services booked, paperless billing, payment method, contract type, monthly charges, total charges, and tenure.\n",
    "- Develop a machine learning model to predict customer churn.\n",
    "\n",
    "#### Challenges:\n",
    "- The dataset is large and contains missing values and different data types.\n",
    "- It is not possible to maintain the dataset in Excel or a spreadsheet.\n",
    "\n",
    "#### Methodology / Analytic Technique:\n",
    "- Exploratory analysis (graph analysis) will be used to identify patterns and trends in the data.\n",
    "- Descriptive statistics will be used to summarize the data and identify key metrics.\n",
    "- Classification models will be used to identify factors that are associated with churn.\n",
    "- Statistical analysis will be used to test the significance of the findings.\n",
    "\n",
    "#### Business Benefit:\n",
    "- Increased understanding of customer churn drivers\n",
    "- Improved ability to predict customer churn\n",
    "- Development of targeted interventions to reduce churn\n",
    "- Increased customer retention and revenue\n",
    "\n",
    "#### Expected Outcome:\n",
    "- A comprehensive understanding of customer churn drivers\n",
    "- A machine learning model that can accurately predict customer churn\n",
    "- Recommendations for targeted interventions to reduce churn\n",
    "- Increased customer retention and revenue\n",
    "\n",
    "\n",
    "\n",
    "# Business Understanding\n",
    "* A telephone company, also known as a telco, telephone service provider, or telecommunications operator, is a kind of communications service provider, more precisely a telecommunications service provider, that provides telecommunications services such as telephony and data communications access.\n",
    "* Churn rate is the rate at which customers stop doing business with a company over a given period of time.\n",
    "\n",
    "This case requires data-driven answers to the following questions:\n",
    "* How many customers are churning?\n",
    "* What's the insight on churn and non-churn customers based on customers demographic info such as gender, senior citizen, partner, and dependents?\n",
    "* What's the insight on churn and non-churn customers based on customer services booked  such as phone service multiple lines, internet service, online security, online backup, device protection, tech support, streaming TV and streaming movies?\n",
    "* What's the insight on churn and non-churn customers based on customer account information such as paperless billing, payment method, and contract?\n",
    "* Is there a relationship between monthly charges, total charges, and tenure on churn rate?\n",
    "\n",
    "\n",
    "\n",
    "# Data Understanding\n",
    "#### Data Source\n",
    "* The data set is a collection of customer retention programs.\n",
    "* The data set has 7043 rows and 21 columns.\n",
    "* Source Data: Telco Customer Churn by International Business Machines Corporations (IBM) Sample Data Set.\n",
    "    https://www.kaggle.com/datasets/blastchar/telco-customer-churn\n",
    "\n",
    "#### Data Dictionary\n",
    "Classification labels\n",
    "* Churn — Whether the customer churned or not (Yes or No)\n",
    "\n",
    "Customer services booked\n",
    "* PhoneService — Whether the customer has a phone service (Yes, No)\n",
    "* MultipleLines — Whether the customer has multiple lines (Yes, No, No phone service)\n",
    "* InternetService — Customer’s internet service provider (DSL, Fiber optic, No)\n",
    "* OnlineSecurity — Whether the customer has online security (Yes, No, No internet service)\n",
    "* OnlineBackup — Whether the customer has online backup (Yes, No, No internet service)\n",
    "* DeviceProtection — Whether the customer has device protection (Yes, No, No internet service)\n",
    "* TechSupport — Whether the customer has tech support (Yes, No, No internet service)\n",
    "* StreamingTV — Whether the customer has streaming TV (Yes, No, No internet service)\n",
    "* StreamingMovies — Whether the customer has streaming movies (Yes, No, No internet service)\n",
    "\n",
    "Customer account information\n",
    "* Tenure — Number of months the customer has stayed with the company\n",
    "* Contract — The contract term of the customer (Month-to-month, One year, Two year)\n",
    "* PaperlessBilling — Whether the customer has paperless billing (Yes, No)\n",
    "* PaymentMethod — The customer’s payment method (Electronic check, Mailed check, Bank transfer (automatic), Credit card (automatic))\n",
    "* MonthlyCharges — The amount charged to the customer monthly\n",
    "* TotalCharges — The total amount charged to the customer\n",
    "\n",
    "Customers demographic info\n",
    "* customerID — Customer ID\n",
    "* Gender — Whether the customer is a male or a female\n",
    "* SeniorCitizen — Whether the customer is a senior citizen or not (1, 0)\n",
    "* Partner — Whether the customer has a partner or not (Yes, No)\n",
    "* Dependents — Whether the customer has dependents or not (Yes, No)\n",
    "\n",
    "# Data Preparation\n",
    "Code Used :\n",
    "* Python Version : !python -V (Python 3.8.8)\n",
    "* Packages : Pandas, Numpy, Matplotlib, Seaborn, SKlearn, Warnings"
   ]
  },
  {
   "cell_type": "code",
   "execution_count": 80,
   "id": "f044d745",
   "metadata": {},
   "outputs": [],
   "source": [
    "import pandas as pd\n",
    "import numpy as np\n",
    "import matplotlib.pyplot as plt\n",
    "%matplotlib inline\n",
    "import seaborn as sns\n",
    "\n",
    "from sklearn.preprocessing import OrdinalEncoder\n",
    "from sklearn.preprocessing import OneHotEncoder\n",
    "from sklearn.preprocessing import StandardScaler\n",
    "\n",
    "from sklearn.model_selection import train_test_split\n",
    "from sklearn.ensemble import ExtraTreesClassifier\n",
    "\n",
    "from sklearn.linear_model import LinearRegression\n",
    "from sklearn.linear_model import LogisticRegression\n",
    "from sklearn.preprocessing import MinMaxScaler\n",
    "from sklearn.metrics import mean_absolute_error\n",
    "from sklearn.metrics import mean_absolute_percentage_error\n",
    "\n",
    "\n",
    "from sklearn.metrics import confusion_matrix\n",
    "from sklearn.metrics import classification_report\n",
    "\n",
    "from sklearn.model_selection import cross_val_score\n",
    "from sklearn.model_selection import GridSearchCV\n",
    "from sklearn.metrics import classification_report\n",
    "from sklearn.metrics import accuracy_score\n",
    "\n",
    "from sklearn.linear_model import LogisticRegression\n",
    "from sklearn.metrics import confusion_matrix\n",
    "from sklearn.metrics import classification_report\n",
    "from sklearn.metrics import accuracy_score\n",
    "from sklearn.metrics import roc_auc_score, accuracy_score, precision_score, recall_score, confusion_matrix, roc_curve, auc, log_loss\n",
    "\n",
    "from sklearn.model_selection import cross_val_score\n",
    "from sklearn.model_selection import KFold\n",
    "from sklearn.model_selection import RandomizedSearchCV\n",
    "from sklearn.model_selection import GridSearchCV\n",
    "#from imblearn.over_sampling import SMOTE\n",
    "\n",
    "import matplotlib.ticker as mtick  \n",
    "import matplotlib.pyplot as plt\n",
    "\n",
    "\n",
    "import warnings\n",
    "warnings.filterwarnings('ignore')"
   ]
  },
  {
   "cell_type": "markdown",
   "id": "5d2e06ab",
   "metadata": {},
   "source": [
    "# Data Profiling"
   ]
  },
  {
   "cell_type": "code",
   "execution_count": 81,
   "id": "873351c5",
   "metadata": {},
   "outputs": [],
   "source": [
    "df = pd.read_csv('data_telco.csv')"
   ]
  },
  {
   "cell_type": "code",
   "execution_count": 82,
   "id": "15d4b1fa",
   "metadata": {},
   "outputs": [
    {
     "data": {
      "text/html": [
       "<div>\n",
       "<style scoped>\n",
       "    .dataframe tbody tr th:only-of-type {\n",
       "        vertical-align: middle;\n",
       "    }\n",
       "\n",
       "    .dataframe tbody tr th {\n",
       "        vertical-align: top;\n",
       "    }\n",
       "\n",
       "    .dataframe thead th {\n",
       "        text-align: right;\n",
       "    }\n",
       "</style>\n",
       "<table border=\"1\" class=\"dataframe\">\n",
       "  <thead>\n",
       "    <tr style=\"text-align: right;\">\n",
       "      <th></th>\n",
       "      <th>customerID</th>\n",
       "      <th>gender</th>\n",
       "      <th>SeniorCitizen</th>\n",
       "      <th>Partner</th>\n",
       "      <th>Dependents</th>\n",
       "      <th>tenure</th>\n",
       "      <th>PhoneService</th>\n",
       "      <th>MultipleLines</th>\n",
       "      <th>InternetService</th>\n",
       "      <th>OnlineSecurity</th>\n",
       "      <th>...</th>\n",
       "      <th>DeviceProtection</th>\n",
       "      <th>TechSupport</th>\n",
       "      <th>StreamingTV</th>\n",
       "      <th>StreamingMovies</th>\n",
       "      <th>Contract</th>\n",
       "      <th>PaperlessBilling</th>\n",
       "      <th>PaymentMethod</th>\n",
       "      <th>MonthlyCharges</th>\n",
       "      <th>TotalCharges</th>\n",
       "      <th>Churn</th>\n",
       "    </tr>\n",
       "  </thead>\n",
       "  <tbody>\n",
       "    <tr>\n",
       "      <th>0</th>\n",
       "      <td>7590-VHVEG</td>\n",
       "      <td>NaN</td>\n",
       "      <td>NaN</td>\n",
       "      <td>NaN</td>\n",
       "      <td>NaN</td>\n",
       "      <td>1</td>\n",
       "      <td>No</td>\n",
       "      <td>NaN</td>\n",
       "      <td>NaN</td>\n",
       "      <td>NaN</td>\n",
       "      <td>...</td>\n",
       "      <td>NaN</td>\n",
       "      <td>NaN</td>\n",
       "      <td>NaN</td>\n",
       "      <td>NaN</td>\n",
       "      <td>Month-to-month</td>\n",
       "      <td>Yes</td>\n",
       "      <td>Electronic check</td>\n",
       "      <td>29.85</td>\n",
       "      <td>29.85</td>\n",
       "      <td>No</td>\n",
       "    </tr>\n",
       "    <tr>\n",
       "      <th>1</th>\n",
       "      <td>5575-GNVDE</td>\n",
       "      <td>NaN</td>\n",
       "      <td>NaN</td>\n",
       "      <td>NaN</td>\n",
       "      <td>NaN</td>\n",
       "      <td>34</td>\n",
       "      <td>Yes</td>\n",
       "      <td>NaN</td>\n",
       "      <td>NaN</td>\n",
       "      <td>NaN</td>\n",
       "      <td>...</td>\n",
       "      <td>NaN</td>\n",
       "      <td>NaN</td>\n",
       "      <td>NaN</td>\n",
       "      <td>NaN</td>\n",
       "      <td>One year</td>\n",
       "      <td>No</td>\n",
       "      <td>Mailed check</td>\n",
       "      <td>56.95</td>\n",
       "      <td>1889.5</td>\n",
       "      <td>No</td>\n",
       "    </tr>\n",
       "    <tr>\n",
       "      <th>2</th>\n",
       "      <td>3668-QPYBK</td>\n",
       "      <td>NaN</td>\n",
       "      <td>NaN</td>\n",
       "      <td>NaN</td>\n",
       "      <td>NaN</td>\n",
       "      <td>2</td>\n",
       "      <td>Yes</td>\n",
       "      <td>NaN</td>\n",
       "      <td>NaN</td>\n",
       "      <td>NaN</td>\n",
       "      <td>...</td>\n",
       "      <td>NaN</td>\n",
       "      <td>NaN</td>\n",
       "      <td>NaN</td>\n",
       "      <td>NaN</td>\n",
       "      <td>Month-to-month</td>\n",
       "      <td>Yes</td>\n",
       "      <td>Mailed check</td>\n",
       "      <td>53.85</td>\n",
       "      <td>108.15</td>\n",
       "      <td>Yes</td>\n",
       "    </tr>\n",
       "    <tr>\n",
       "      <th>3</th>\n",
       "      <td>7795-CFOCW</td>\n",
       "      <td>NaN</td>\n",
       "      <td>NaN</td>\n",
       "      <td>NaN</td>\n",
       "      <td>NaN</td>\n",
       "      <td>45</td>\n",
       "      <td>No</td>\n",
       "      <td>NaN</td>\n",
       "      <td>NaN</td>\n",
       "      <td>NaN</td>\n",
       "      <td>...</td>\n",
       "      <td>NaN</td>\n",
       "      <td>NaN</td>\n",
       "      <td>NaN</td>\n",
       "      <td>NaN</td>\n",
       "      <td>One year</td>\n",
       "      <td>No</td>\n",
       "      <td>Bank transfer (automatic)</td>\n",
       "      <td>42.30</td>\n",
       "      <td>1840.75</td>\n",
       "      <td>No</td>\n",
       "    </tr>\n",
       "    <tr>\n",
       "      <th>4</th>\n",
       "      <td>9237-HQITU</td>\n",
       "      <td>NaN</td>\n",
       "      <td>NaN</td>\n",
       "      <td>NaN</td>\n",
       "      <td>NaN</td>\n",
       "      <td>2</td>\n",
       "      <td>Yes</td>\n",
       "      <td>NaN</td>\n",
       "      <td>NaN</td>\n",
       "      <td>NaN</td>\n",
       "      <td>...</td>\n",
       "      <td>NaN</td>\n",
       "      <td>NaN</td>\n",
       "      <td>NaN</td>\n",
       "      <td>NaN</td>\n",
       "      <td>Month-to-month</td>\n",
       "      <td>Yes</td>\n",
       "      <td>Electronic check</td>\n",
       "      <td>70.70</td>\n",
       "      <td>151.65</td>\n",
       "      <td>Yes</td>\n",
       "    </tr>\n",
       "  </tbody>\n",
       "</table>\n",
       "<p>5 rows × 21 columns</p>\n",
       "</div>"
      ],
      "text/plain": [
       "   customerID gender  SeniorCitizen Partner Dependents  tenure PhoneService  \\\n",
       "0  7590-VHVEG    NaN            NaN     NaN        NaN       1           No   \n",
       "1  5575-GNVDE    NaN            NaN     NaN        NaN      34          Yes   \n",
       "2  3668-QPYBK    NaN            NaN     NaN        NaN       2          Yes   \n",
       "3  7795-CFOCW    NaN            NaN     NaN        NaN      45           No   \n",
       "4  9237-HQITU    NaN            NaN     NaN        NaN       2          Yes   \n",
       "\n",
       "  MultipleLines InternetService OnlineSecurity  ... DeviceProtection  \\\n",
       "0           NaN             NaN            NaN  ...              NaN   \n",
       "1           NaN             NaN            NaN  ...              NaN   \n",
       "2           NaN             NaN            NaN  ...              NaN   \n",
       "3           NaN             NaN            NaN  ...              NaN   \n",
       "4           NaN             NaN            NaN  ...              NaN   \n",
       "\n",
       "  TechSupport StreamingTV StreamingMovies        Contract PaperlessBilling  \\\n",
       "0         NaN         NaN             NaN  Month-to-month              Yes   \n",
       "1         NaN         NaN             NaN        One year               No   \n",
       "2         NaN         NaN             NaN  Month-to-month              Yes   \n",
       "3         NaN         NaN             NaN        One year               No   \n",
       "4         NaN         NaN             NaN  Month-to-month              Yes   \n",
       "\n",
       "               PaymentMethod MonthlyCharges  TotalCharges Churn  \n",
       "0           Electronic check          29.85         29.85    No  \n",
       "1               Mailed check          56.95        1889.5    No  \n",
       "2               Mailed check          53.85        108.15   Yes  \n",
       "3  Bank transfer (automatic)          42.30       1840.75    No  \n",
       "4           Electronic check          70.70        151.65   Yes  \n",
       "\n",
       "[5 rows x 21 columns]"
      ]
     },
     "execution_count": 82,
     "metadata": {},
     "output_type": "execute_result"
    }
   ],
   "source": [
    "df.head()"
   ]
  },
  {
   "cell_type": "code",
   "execution_count": 83,
   "id": "1502d9fc",
   "metadata": {},
   "outputs": [
    {
     "data": {
      "text/html": [
       "<div>\n",
       "<style scoped>\n",
       "    .dataframe tbody tr th:only-of-type {\n",
       "        vertical-align: middle;\n",
       "    }\n",
       "\n",
       "    .dataframe tbody tr th {\n",
       "        vertical-align: top;\n",
       "    }\n",
       "\n",
       "    .dataframe thead th {\n",
       "        text-align: right;\n",
       "    }\n",
       "</style>\n",
       "<table border=\"1\" class=\"dataframe\">\n",
       "  <thead>\n",
       "    <tr style=\"text-align: right;\">\n",
       "      <th></th>\n",
       "      <th>customerID</th>\n",
       "      <th>gender</th>\n",
       "      <th>SeniorCitizen</th>\n",
       "      <th>Partner</th>\n",
       "      <th>Dependents</th>\n",
       "      <th>tenure</th>\n",
       "      <th>PhoneService</th>\n",
       "      <th>MultipleLines</th>\n",
       "      <th>InternetService</th>\n",
       "      <th>OnlineSecurity</th>\n",
       "      <th>...</th>\n",
       "      <th>DeviceProtection</th>\n",
       "      <th>TechSupport</th>\n",
       "      <th>StreamingTV</th>\n",
       "      <th>StreamingMovies</th>\n",
       "      <th>Contract</th>\n",
       "      <th>PaperlessBilling</th>\n",
       "      <th>PaymentMethod</th>\n",
       "      <th>MonthlyCharges</th>\n",
       "      <th>TotalCharges</th>\n",
       "      <th>Churn</th>\n",
       "    </tr>\n",
       "  </thead>\n",
       "  <tbody>\n",
       "    <tr>\n",
       "      <th>7038</th>\n",
       "      <td>6840-RESVB</td>\n",
       "      <td>Male</td>\n",
       "      <td>0.0</td>\n",
       "      <td>Yes</td>\n",
       "      <td>Yes</td>\n",
       "      <td>24</td>\n",
       "      <td>Yes</td>\n",
       "      <td>Yes</td>\n",
       "      <td>DSL</td>\n",
       "      <td>Yes</td>\n",
       "      <td>...</td>\n",
       "      <td>Yes</td>\n",
       "      <td>Yes</td>\n",
       "      <td>Yes</td>\n",
       "      <td>Yes</td>\n",
       "      <td>One year</td>\n",
       "      <td>Yes</td>\n",
       "      <td>Mailed check</td>\n",
       "      <td>84.80</td>\n",
       "      <td>1990.5</td>\n",
       "      <td>No</td>\n",
       "    </tr>\n",
       "    <tr>\n",
       "      <th>7039</th>\n",
       "      <td>2234-XADUH</td>\n",
       "      <td>Female</td>\n",
       "      <td>0.0</td>\n",
       "      <td>Yes</td>\n",
       "      <td>Yes</td>\n",
       "      <td>72</td>\n",
       "      <td>Yes</td>\n",
       "      <td>Yes</td>\n",
       "      <td>Fiber optic</td>\n",
       "      <td>No</td>\n",
       "      <td>...</td>\n",
       "      <td>Yes</td>\n",
       "      <td>No</td>\n",
       "      <td>Yes</td>\n",
       "      <td>Yes</td>\n",
       "      <td>One year</td>\n",
       "      <td>Yes</td>\n",
       "      <td>Credit card (automatic)</td>\n",
       "      <td>103.20</td>\n",
       "      <td>7362.9</td>\n",
       "      <td>No</td>\n",
       "    </tr>\n",
       "    <tr>\n",
       "      <th>7040</th>\n",
       "      <td>4801-JZAZL</td>\n",
       "      <td>Female</td>\n",
       "      <td>0.0</td>\n",
       "      <td>Yes</td>\n",
       "      <td>Yes</td>\n",
       "      <td>11</td>\n",
       "      <td>No</td>\n",
       "      <td>No phone service</td>\n",
       "      <td>DSL</td>\n",
       "      <td>Yes</td>\n",
       "      <td>...</td>\n",
       "      <td>No</td>\n",
       "      <td>No</td>\n",
       "      <td>No</td>\n",
       "      <td>No</td>\n",
       "      <td>Month-to-month</td>\n",
       "      <td>Yes</td>\n",
       "      <td>Electronic check</td>\n",
       "      <td>29.60</td>\n",
       "      <td>346.45</td>\n",
       "      <td>No</td>\n",
       "    </tr>\n",
       "    <tr>\n",
       "      <th>7041</th>\n",
       "      <td>8361-LTMKD</td>\n",
       "      <td>Male</td>\n",
       "      <td>1.0</td>\n",
       "      <td>Yes</td>\n",
       "      <td>No</td>\n",
       "      <td>4</td>\n",
       "      <td>Yes</td>\n",
       "      <td>Yes</td>\n",
       "      <td>Fiber optic</td>\n",
       "      <td>No</td>\n",
       "      <td>...</td>\n",
       "      <td>No</td>\n",
       "      <td>No</td>\n",
       "      <td>No</td>\n",
       "      <td>No</td>\n",
       "      <td>Month-to-month</td>\n",
       "      <td>Yes</td>\n",
       "      <td>Mailed check</td>\n",
       "      <td>74.40</td>\n",
       "      <td>306.6</td>\n",
       "      <td>Yes</td>\n",
       "    </tr>\n",
       "    <tr>\n",
       "      <th>7042</th>\n",
       "      <td>3186-AJIEK</td>\n",
       "      <td>Male</td>\n",
       "      <td>0.0</td>\n",
       "      <td>No</td>\n",
       "      <td>No</td>\n",
       "      <td>66</td>\n",
       "      <td>Yes</td>\n",
       "      <td>No</td>\n",
       "      <td>Fiber optic</td>\n",
       "      <td>Yes</td>\n",
       "      <td>...</td>\n",
       "      <td>Yes</td>\n",
       "      <td>Yes</td>\n",
       "      <td>Yes</td>\n",
       "      <td>Yes</td>\n",
       "      <td>Two year</td>\n",
       "      <td>Yes</td>\n",
       "      <td>Bank transfer (automatic)</td>\n",
       "      <td>105.65</td>\n",
       "      <td>6844.5</td>\n",
       "      <td>No</td>\n",
       "    </tr>\n",
       "  </tbody>\n",
       "</table>\n",
       "<p>5 rows × 21 columns</p>\n",
       "</div>"
      ],
      "text/plain": [
       "      customerID  gender  SeniorCitizen Partner Dependents  tenure  \\\n",
       "7038  6840-RESVB    Male            0.0     Yes        Yes      24   \n",
       "7039  2234-XADUH  Female            0.0     Yes        Yes      72   \n",
       "7040  4801-JZAZL  Female            0.0     Yes        Yes      11   \n",
       "7041  8361-LTMKD    Male            1.0     Yes         No       4   \n",
       "7042  3186-AJIEK    Male            0.0      No         No      66   \n",
       "\n",
       "     PhoneService     MultipleLines InternetService OnlineSecurity  ...  \\\n",
       "7038          Yes               Yes             DSL            Yes  ...   \n",
       "7039          Yes               Yes     Fiber optic             No  ...   \n",
       "7040           No  No phone service             DSL            Yes  ...   \n",
       "7041          Yes               Yes     Fiber optic             No  ...   \n",
       "7042          Yes                No     Fiber optic            Yes  ...   \n",
       "\n",
       "     DeviceProtection TechSupport StreamingTV StreamingMovies        Contract  \\\n",
       "7038              Yes         Yes         Yes             Yes        One year   \n",
       "7039              Yes          No         Yes             Yes        One year   \n",
       "7040               No          No          No              No  Month-to-month   \n",
       "7041               No          No          No              No  Month-to-month   \n",
       "7042              Yes         Yes         Yes             Yes        Two year   \n",
       "\n",
       "     PaperlessBilling              PaymentMethod MonthlyCharges  TotalCharges  \\\n",
       "7038              Yes               Mailed check          84.80        1990.5   \n",
       "7039              Yes    Credit card (automatic)         103.20        7362.9   \n",
       "7040              Yes           Electronic check          29.60        346.45   \n",
       "7041              Yes               Mailed check          74.40         306.6   \n",
       "7042              Yes  Bank transfer (automatic)         105.65        6844.5   \n",
       "\n",
       "     Churn  \n",
       "7038    No  \n",
       "7039    No  \n",
       "7040    No  \n",
       "7041   Yes  \n",
       "7042    No  \n",
       "\n",
       "[5 rows x 21 columns]"
      ]
     },
     "execution_count": 83,
     "metadata": {},
     "output_type": "execute_result"
    }
   ],
   "source": [
    "df.tail()"
   ]
  },
  {
   "cell_type": "code",
   "execution_count": 84,
   "id": "ed1b03d0",
   "metadata": {},
   "outputs": [
    {
     "name": "stdout",
     "output_type": "stream",
     "text": [
      "<class 'pandas.core.frame.DataFrame'>\n",
      "RangeIndex: 7043 entries, 0 to 7042\n",
      "Data columns (total 21 columns):\n",
      " #   Column            Non-Null Count  Dtype  \n",
      "---  ------            --------------  -----  \n",
      " 0   customerID        7043 non-null   object \n",
      " 1   gender            6034 non-null   object \n",
      " 2   SeniorCitizen     6034 non-null   float64\n",
      " 3   Partner           6034 non-null   object \n",
      " 4   Dependents        6034 non-null   object \n",
      " 5   tenure            7043 non-null   int64  \n",
      " 6   PhoneService      7043 non-null   object \n",
      " 7   MultipleLines     6034 non-null   object \n",
      " 8   InternetService   6034 non-null   object \n",
      " 9   OnlineSecurity    6034 non-null   object \n",
      " 10  OnlineBackup      6034 non-null   object \n",
      " 11  DeviceProtection  6034 non-null   object \n",
      " 12  TechSupport       6034 non-null   object \n",
      " 13  StreamingTV       6034 non-null   object \n",
      " 14  StreamingMovies   6034 non-null   object \n",
      " 15  Contract          7043 non-null   object \n",
      " 16  PaperlessBilling  7043 non-null   object \n",
      " 17  PaymentMethod     7043 non-null   object \n",
      " 18  MonthlyCharges    7043 non-null   float64\n",
      " 19  TotalCharges      7043 non-null   object \n",
      " 20  Churn             7043 non-null   object \n",
      "dtypes: float64(2), int64(1), object(18)\n",
      "memory usage: 1.1+ MB\n"
     ]
    }
   ],
   "source": [
    "df.info()"
   ]
  },
  {
   "cell_type": "code",
   "execution_count": 85,
   "id": "ae67140c",
   "metadata": {
    "scrolled": false
   },
   "outputs": [
    {
     "data": {
      "text/plain": [
       "customerID             0\n",
       "gender              1009\n",
       "SeniorCitizen       1009\n",
       "Partner             1009\n",
       "Dependents          1009\n",
       "tenure                 0\n",
       "PhoneService           0\n",
       "MultipleLines       1009\n",
       "InternetService     1009\n",
       "OnlineSecurity      1009\n",
       "OnlineBackup        1009\n",
       "DeviceProtection    1009\n",
       "TechSupport         1009\n",
       "StreamingTV         1009\n",
       "StreamingMovies     1009\n",
       "Contract               0\n",
       "PaperlessBilling       0\n",
       "PaymentMethod          0\n",
       "MonthlyCharges         0\n",
       "TotalCharges           0\n",
       "Churn                  0\n",
       "dtype: int64"
      ]
     },
     "execution_count": 85,
     "metadata": {},
     "output_type": "execute_result"
    }
   ],
   "source": [
    "df.isna().sum()"
   ]
  },
  {
   "cell_type": "code",
   "execution_count": 86,
   "id": "d7ff342f",
   "metadata": {},
   "outputs": [
    {
     "data": {
      "text/plain": [
       "customerID           0.000000\n",
       "gender              14.326281\n",
       "SeniorCitizen       14.326281\n",
       "Partner             14.326281\n",
       "Dependents          14.326281\n",
       "tenure               0.000000\n",
       "PhoneService         0.000000\n",
       "MultipleLines       14.326281\n",
       "InternetService     14.326281\n",
       "OnlineSecurity      14.326281\n",
       "OnlineBackup        14.326281\n",
       "DeviceProtection    14.326281\n",
       "TechSupport         14.326281\n",
       "StreamingTV         14.326281\n",
       "StreamingMovies     14.326281\n",
       "Contract             0.000000\n",
       "PaperlessBilling     0.000000\n",
       "PaymentMethod        0.000000\n",
       "MonthlyCharges       0.000000\n",
       "TotalCharges         0.000000\n",
       "Churn                0.000000\n",
       "dtype: float64"
      ]
     },
     "execution_count": 86,
     "metadata": {},
     "output_type": "execute_result"
    }
   ],
   "source": [
    "percent_missing = df.isnull().sum() * 100 / len(df)\n",
    "percent_missing"
   ]
  },
  {
   "cell_type": "markdown",
   "id": "cc14bd4a",
   "metadata": {},
   "source": [
    "# Data Cleansing"
   ]
  },
  {
   "cell_type": "markdown",
   "id": "50275107",
   "metadata": {},
   "source": [
    "* ### Change Data Value"
   ]
  },
  {
   "cell_type": "markdown",
   "id": "e2502c5f",
   "metadata": {},
   "source": [
    "The code below is written to convert the SeniorCitizen column from numeric to categorical data. The SeniorCitizen column originally contains numeric values of 0 and 1, where 0 indicates \"No\" and 1 indicates \"Yes\". The code above uses the map() function to map these numeric values to their corresponding string values. This makes the data easier to interpret and analyze."
   ]
  },
  {
   "cell_type": "code",
   "execution_count": 7,
   "id": "17990399",
   "metadata": {},
   "outputs": [],
   "source": [
    "df['SeniorCitizen'] = df['SeniorCitizen'].map({0.0:'No', 1.0:'Yes'})"
   ]
  },
  {
   "cell_type": "code",
   "execution_count": 8,
   "id": "c8ac91f2",
   "metadata": {},
   "outputs": [
    {
     "data": {
      "text/plain": [
       "No     5057\n",
       "Yes     977\n",
       "Name: SeniorCitizen, dtype: int64"
      ]
     },
     "execution_count": 8,
     "metadata": {},
     "output_type": "execute_result"
    }
   ],
   "source": [
    "df['SeniorCitizen'].value_counts()"
   ]
  },
  {
   "cell_type": "markdown",
   "id": "b77223ac",
   "metadata": {},
   "source": [
    "The \"No\" column has 5057 customers, which is more than the \"Yes\" column with 977 customers. This means that there are more customers who are not senior citizens than there are senior citizens."
   ]
  },
  {
   "cell_type": "code",
   "execution_count": 9,
   "id": "b9c2259c",
   "metadata": {},
   "outputs": [
    {
     "data": {
      "text/plain": [
       "Index(['gender', 'SeniorCitizen', 'Partner', 'Dependents', 'MultipleLines',\n",
       "       'InternetService', 'OnlineSecurity', 'OnlineBackup', 'DeviceProtection',\n",
       "       'TechSupport', 'StreamingTV', 'StreamingMovies'],\n",
       "      dtype='object')"
      ]
     },
     "execution_count": 9,
     "metadata": {},
     "output_type": "execute_result"
    }
   ],
   "source": [
    "df.columns[df.isnull().any()]"
   ]
  },
  {
   "cell_type": "markdown",
   "id": "c32e77a8",
   "metadata": {},
   "source": [
    "* ### Fill the missing value"
   ]
  },
  {
   "cell_type": "markdown",
   "id": "04de29b2",
   "metadata": {},
   "source": [
    "The code below is used to fill in missing values in the df DataFrame. The code first creates a list of columns that contain missing values. Then, for each column in the list, the code fills in the missing values with the string \"Unknown\"."
   ]
  },
  {
   "cell_type": "code",
   "execution_count": 10,
   "id": "76a11643",
   "metadata": {},
   "outputs": [],
   "source": [
    "data = df.columns[df.isnull().any()]\n",
    "for i in data:\n",
    "    df[i]=df[i].fillna('Unknown')"
   ]
  },
  {
   "cell_type": "code",
   "execution_count": 11,
   "id": "a07dcc6f",
   "metadata": {},
   "outputs": [
    {
     "data": {
      "text/plain": [
       "No         5057\n",
       "Unknown    1009\n",
       "Yes         977\n",
       "Name: SeniorCitizen, dtype: int64"
      ]
     },
     "execution_count": 11,
     "metadata": {},
     "output_type": "execute_result"
    }
   ],
   "source": [
    "df['SeniorCitizen'].value_counts()"
   ]
  },
  {
   "cell_type": "markdown",
   "id": "158c555b",
   "metadata": {},
   "source": [
    "The output shows the number of customers who are \"No\", \"Unknown\", and \"Yes\" to the Churn column. The \"No\" column has 5057 customers, which is more than the \"Unknown\" column with 1009 customers and the \"Yes\" column with 977 customers. This means that there are more customers who do not churn than there are customers who churn or who the churn status is unknown."
   ]
  },
  {
   "cell_type": "markdown",
   "id": "089ddda0",
   "metadata": {},
   "source": [
    "* ### Change Data Types\n",
    "The code below is used to convert the TotalCharges column in the df DataFrame to numeric data type. If the conversion is not possible, the code uses the errors='coerce' argument to coerce the non-numeric values to NaN."
   ]
  },
  {
   "cell_type": "code",
   "execution_count": 13,
   "id": "f4209456",
   "metadata": {},
   "outputs": [],
   "source": [
    "df['TotalCharges'] = pd.to_numeric(df['TotalCharges'],errors='coerce')"
   ]
  },
  {
   "cell_type": "code",
   "execution_count": 14,
   "id": "b05e6a84",
   "metadata": {
    "scrolled": false
   },
   "outputs": [
    {
     "data": {
      "text/plain": [
       "customerID           0\n",
       "gender               0\n",
       "SeniorCitizen        0\n",
       "Partner              0\n",
       "Dependents           0\n",
       "tenure               0\n",
       "PhoneService         0\n",
       "MultipleLines        0\n",
       "InternetService      0\n",
       "OnlineSecurity       0\n",
       "OnlineBackup         0\n",
       "DeviceProtection     0\n",
       "TechSupport          0\n",
       "StreamingTV          0\n",
       "StreamingMovies      0\n",
       "Contract             0\n",
       "PaperlessBilling     0\n",
       "PaymentMethod        0\n",
       "MonthlyCharges       0\n",
       "TotalCharges        11\n",
       "Churn                0\n",
       "dtype: int64"
      ]
     },
     "execution_count": 14,
     "metadata": {},
     "output_type": "execute_result"
    }
   ],
   "source": [
    "df.isna().sum()"
   ]
  },
  {
   "cell_type": "code",
   "execution_count": 15,
   "id": "c9c8c1a2",
   "metadata": {
    "scrolled": false
   },
   "outputs": [
    {
     "data": {
      "text/plain": [
       "<AxesSubplot:xlabel='TotalCharges', ylabel='Density'>"
      ]
     },
     "execution_count": 15,
     "metadata": {},
     "output_type": "execute_result"
    },
    {
     "data": {
      "image/png": "[encoded data removed]",
      "text/plain": [
       "<Figure size 432x288 with 1 Axes>"
      ]
     },
     "metadata": {
      "needs_background": "light"
     },
     "output_type": "display_data"
    }
   ],
   "source": [
    "sns.distplot(df['TotalCharges']) "
   ]
  },
  {
   "cell_type": "code",
   "execution_count": 16,
   "id": "d997caca",
   "metadata": {},
   "outputs": [],
   "source": [
    "val = df['TotalCharges'].median()\n",
    "df['TotalCharges'] = df['TotalCharges'].fillna(val)"
   ]
  },
  {
   "cell_type": "markdown",
   "id": "85cc28d3",
   "metadata": {},
   "source": [
    "# Exploratory Data Analysis"
   ]
  },
  {
   "cell_type": "markdown",
   "id": "13fca996",
   "metadata": {},
   "source": [
    "### Churn Data Distribution Analysis"
   ]
  },
  {
   "cell_type": "markdown",
   "id": "c3310e3e",
   "metadata": {},
   "source": [
    "- How many customers are churning?"
   ]
  },
  {
   "cell_type": "code",
   "execution_count": 17,
   "id": "4a711755",
   "metadata": {
    "scrolled": true
   },
   "outputs": [
    {
     "name": "stdout",
     "output_type": "stream",
     "text": [
      "     Churn  Churn %\n",
      "No    5174    73.46\n",
      "Yes   1869    26.54\n"
     ]
    },
    {
     "data": {
      "image/png": "[encoded data removed]",
      "text/plain": [
       "<Figure size 432x288 with 1 Axes>"
      ]
     },
     "metadata": {
      "needs_background": "light"
     },
     "output_type": "display_data"
    }
   ],
   "source": [
    "df_churn = pd.DataFrame(df[\"Churn\"].value_counts())\n",
    "df_churn['Churn %'] = [round(i*100/sum(df_churn.Churn),2) for i in df_churn.Churn]\n",
    "print(df_churn)\n",
    "\n",
    "ax = sns.countplot(data = df, palette = 'mako', x=\"Churn\")\n",
    "\n",
    "plt.xlabel(\"Churn\", fontsize= 14)\n",
    "plt.ylabel(\"Number of Customers\", fontsize= 13)\n",
    "plt.ylim(0,6000)\n",
    "plt.xticks(fontsize= 12)\n",
    "plt.yticks(fontsize= 12)\n",
    "\n",
    "for p in ax.patches:\n",
    "        ax.annotate((p.get_height()), (p.get_x()+0.3, p.get_height()+200), fontsize= 12)"
   ]
  },
  {
   "cell_type": "markdown",
   "id": "4db318a4",
   "metadata": {},
   "source": [
    "The majority of customers are still using the service (73.46%), while a minority of customers have stopped using the service (26.54%)."
   ]
  },
  {
   "cell_type": "markdown",
   "id": "17ee81fd",
   "metadata": {},
   "source": [
    "### Customers Demographic Info Analysis"
   ]
  },
  {
   "cell_type": "markdown",
   "id": "e16da935",
   "metadata": {},
   "source": [
    "#### What's the insight on churn and non-churn customers based on customers demographic info such as gender, senior citizen, partner, and dependents?\n"
   ]
  },
  {
   "cell_type": "markdown",
   "id": "75d1c39a",
   "metadata": {},
   "source": [
    "* #### Gender"
   ]
  },
  {
   "cell_type": "code",
   "execution_count": 18,
   "id": "0af32797",
   "metadata": {
    "scrolled": false
   },
   "outputs": [
    {
     "name": "stdout",
     "output_type": "stream",
     "text": [
      "         gender  Percent  Churn  Churn %  Non-Churn  Non-Churn %\n",
      "Male       3041    43.18    802    43.12       2239        43.27\n",
      "Female     2993    42.50    806    42.91       2187        42.27\n",
      "Unknown    1009    14.33    261    13.96        748        14.46\n"
     ]
    },
    {
     "data": {
      "image/png": "[encoded data removed]",
      "text/plain": [
       "<Figure size 648x288 with 1 Axes>"
      ]
     },
     "metadata": {
      "needs_background": "light"
     },
     "output_type": "display_data"
    }
   ],
   "source": [
    "# Description Percent\n",
    "df_gender = pd.DataFrame(df[\"gender\"].value_counts())\n",
    "df_gender['Percent'] = [round(i*100/sum(df_gender.gender),2) for i in df_gender.gender]\n",
    "\n",
    "y = (df[\"Churn\"] == 'Yes')\n",
    "n = (df[\"Churn\"] == 'No')\n",
    "\n",
    "df_gender_churn = pd.DataFrame(df.gender[y].value_counts())\n",
    "df_gender['Churn'] = df_gender_churn.gender\n",
    "df_gender['Churn %'] = [round(i*100/sum(df_gender_churn.gender),2) for i in df_gender_churn.gender]\n",
    "\n",
    "df_gender_nonchurn = pd.DataFrame(df.gender[n].value_counts())\n",
    "df_gender['Non-Churn'] = df_gender_nonchurn.gender\n",
    "df_gender['Non-Churn %'] = [round(i*100/sum(df_gender_nonchurn.gender),2) for i in df_gender_nonchurn.gender]\n",
    "print(df_gender)\n",
    "\n",
    "# Chart\n",
    "plt.figure(figsize=(9,4))\n",
    "\n",
    "ax = sns.countplot(data = df, palette = 'mako', x=\"gender\", hue = \"Churn\")\n",
    "\n",
    "plt.xlabel(\"Gender\", fontsize= 14)\n",
    "plt.ylabel(\"Number of Customers\", fontsize= 13)\n",
    "plt.ylim(0,6000)\n",
    "plt.xticks(fontsize= 12)\n",
    "plt.yticks(fontsize= 12)\n",
    "\n",
    "for p in ax.patches:\n",
    "        ax.annotate((p.get_height()), (p.get_x()+0.1, p.get_height()+200), fontsize= 12)"
   ]
  },
  {
   "cell_type": "markdown",
   "id": "4f82751a",
   "metadata": {},
   "source": [
    "- **Female churn customers are almost as likely as male churn customers to stop using the service**.\n",
    "\n",
    "- About 43% of male customers and 42% of female customers have stopped using the service.\n",
    "\n",
    "- About 43% of male customers and 43% of female customers are still subscribed to the service."
   ]
  },
  {
   "cell_type": "markdown",
   "id": "451c0a74",
   "metadata": {},
   "source": [
    "* #### SeniorCitizen"
   ]
  },
  {
   "cell_type": "code",
   "execution_count": 19,
   "id": "ceecf1ce",
   "metadata": {
    "scrolled": false
   },
   "outputs": [
    {
     "name": "stdout",
     "output_type": "stream",
     "text": [
      "         SeniorCitizen  Percent  Churn  Churn %  Non-Churn  Non-Churn %\n",
      "No                5057     71.8   1197     64.0       3860         74.6\n",
      "Unknown           1009     14.3    261     22.0        748         14.5\n",
      "Yes                977     13.9    411     14.0        566         10.9\n"
     ]
    },
    {
     "data": {
      "image/png": "[encoded data removed]",
      "text/plain": [
       "<Figure size 648x288 with 1 Axes>"
      ]
     },
     "metadata": {
      "needs_background": "light"
     },
     "output_type": "display_data"
    }
   ],
   "source": [
    "# Description Percent\n",
    "df_SeniorCitizen = pd.DataFrame(df[\"SeniorCitizen\"].value_counts())\n",
    "df_SeniorCitizen['Percent'] = [round(i*100/sum(df_SeniorCitizen.SeniorCitizen),1) for i in df_SeniorCitizen.SeniorCitizen]\n",
    "\n",
    "df_SeniorCitizen_churn = pd.DataFrame(df.SeniorCitizen[(df[\"Churn\"] == 'Yes')].value_counts())\n",
    "df_SeniorCitizen['Churn'] = df_SeniorCitizen_churn.SeniorCitizen\n",
    "df_SeniorCitizen['Churn %'] = [round(i*100/sum(df_SeniorCitizen_churn.SeniorCitizen),1) for i in df_SeniorCitizen_churn.SeniorCitizen]\n",
    "\n",
    "df_SeniorCitizen_nonchurn = pd.DataFrame(df.SeniorCitizen[(df[\"Churn\"] == 'No')].value_counts())\n",
    "df_SeniorCitizen['Non-Churn'] = df_SeniorCitizen_nonchurn.SeniorCitizen\n",
    "df_SeniorCitizen['Non-Churn %'] = [round(i*100/sum(df_SeniorCitizen_nonchurn.SeniorCitizen),1) for i in df_SeniorCitizen_nonchurn.SeniorCitizen]\n",
    "print(df_SeniorCitizen)\n",
    "\n",
    "\n",
    "# Chart\n",
    "plt.figure(figsize=(9,4))\n",
    "\n",
    "ax = sns.countplot(data = df, palette = 'mako', x=\"SeniorCitizen\", hue = \"Churn\")\n",
    "\n",
    "plt.xlabel(\"Senior Citizen\", fontsize= 14)\n",
    "plt.ylabel(\"Number of Customers\", fontsize= 13)\n",
    "plt.ylim(0,6000)\n",
    "plt.xticks(fontsize= 12)\n",
    "plt.yticks(fontsize= 12)\n",
    "\n",
    "for p in ax.patches:\n",
    "        ax.annotate((p.get_height()), (p.get_x()+0.1, p.get_height()+200), fontsize= 12)"
   ]
  },
  {
   "cell_type": "markdown",
   "id": "98f0d132",
   "metadata": {},
   "source": [
    "- **Young customers are the biggest users of the service, but they are also the most likely to stop using it**.\n",
    "\n",
    "- About 64% of young customers are still subscribed to the service, while about 74.6% of young customers have stopped using the service.\n",
    "\n",
    "- About 14% of senior customers are still subscribed to the service, while about 10.9% of senior customers have stopped using the service.\n",
    "\n",
    "- About 22% of customers have an unknown age category."
   ]
  },
  {
   "cell_type": "markdown",
   "id": "4f3af425",
   "metadata": {},
   "source": [
    "* #### Partner"
   ]
  },
  {
   "cell_type": "code",
   "execution_count": 20,
   "id": "c5af546c",
   "metadata": {
    "scrolled": false
   },
   "outputs": [
    {
     "name": "stdout",
     "output_type": "stream",
     "text": [
      "         Partner  Percent  Churn  Churn %  Non-Churn  Non-Churn %\n",
      "No          3111     44.2   1032     55.2       2079         45.4\n",
      "Yes         2923     41.5    576     30.8       2347         40.2\n",
      "Unknown     1009     14.3    261     14.0        748         14.5\n"
     ]
    },
    {
     "data": {
      "image/png": "[encoded data removed]",
      "text/plain": [
       "<Figure size 648x288 with 1 Axes>"
      ]
     },
     "metadata": {
      "needs_background": "light"
     },
     "output_type": "display_data"
    }
   ],
   "source": [
    "# Description Percent\n",
    "df_Partner = pd.DataFrame(df[\"Partner\"].value_counts())\n",
    "df_Partner['Percent'] = [round(i*100/sum(df_Partner.Partner),1) for i in df_Partner.Partner]\n",
    "\n",
    "df_Partner_churn = pd.DataFrame(df.Partner[(df[\"Churn\"] == 'Yes')].value_counts())\n",
    "df_Partner['Churn'] = df_Partner_churn.Partner\n",
    "df_Partner['Churn %'] = [round(i*100/sum(df_Partner_churn.Partner),1) for i in df_Partner_churn.Partner]\n",
    "\n",
    "df_Partner_nonchurn = pd.DataFrame(df.Partner[(df[\"Churn\"] == 'No')].value_counts())\n",
    "df_Partner['Non-Churn'] = df_Partner_nonchurn.Partner\n",
    "df_Partner['Non-Churn %'] = [round(i*100/sum(df_Partner_nonchurn.Partner),1) for i in df_Partner_nonchurn.Partner]\n",
    "\n",
    "print(df_Partner)\n",
    "\n",
    "# Chart\n",
    "plt.figure(figsize=(9,4))\n",
    "\n",
    "ax = sns.countplot(data = df, palette = 'mako', x=\"Partner\", hue = \"Churn\")\n",
    "\n",
    "plt.xlabel(\"Partner\", fontsize= 14)\n",
    "plt.ylabel(\"Number of Customers\", fontsize= 13)\n",
    "plt.ylim(0,6000)\n",
    "plt.xticks(fontsize= 12)\n",
    "plt.yticks(fontsize= 12)\n",
    "\n",
    "for p in ax.patches:\n",
    "        ax.annotate((p.get_height()), (p.get_x()+0.1, p.get_height()+200), fontsize= 12)"
   ]
  },
  {
   "cell_type": "markdown",
   "id": "5b000305",
   "metadata": {},
   "source": [
    "- **Customers without a partner are more likely to stop using the service than customers with a partner**.\n",
    "\n",
    "- About 55% of customers without a partner have stopped using the service, while only 31% of customers with a partner have stopped using the service.\n",
    "\n",
    "- About 45% of customers with a partner are still using the service, while only 40% of customers without a partner are still using the service.\n",
    "\n",
    "- About 14% of customers have an unknown partner status."
   ]
  },
  {
   "cell_type": "markdown",
   "id": "0e9829bf",
   "metadata": {},
   "source": [
    "* #### Dependents"
   ]
  },
  {
   "cell_type": "code",
   "execution_count": 21,
   "id": "6aab2af3",
   "metadata": {},
   "outputs": [
    {
     "name": "stdout",
     "output_type": "stream",
     "text": [
      "         Dependents  Percent  Churn  Churn %  Non-Churn  Non-Churn %\n",
      "No             4238     60.2   1326     70.9       2912         56.3\n",
      "Yes            1796     25.5    282     15.1       1514         29.3\n",
      "Unknown        1009     14.3    261     14.0        748         14.5\n"
     ]
    },
    {
     "data": {
      "image/png": "[encoded data removed]",
      "text/plain": [
       "<Figure size 648x288 with 1 Axes>"
      ]
     },
     "metadata": {
      "needs_background": "light"
     },
     "output_type": "display_data"
    }
   ],
   "source": [
    "# Description Percent\n",
    "df_Dependents = pd.DataFrame(df[\"Dependents\"].value_counts())\n",
    "df_Dependents['Percent'] = [round(i*100/sum(df_Dependents.Dependents),1) for i in df_Dependents.Dependents]\n",
    "\n",
    "df_Dependents_churn = pd.DataFrame(df.Dependents[(df[\"Churn\"] == 'Yes')].value_counts())\n",
    "df_Dependents['Churn'] = df_Dependents_churn.Dependents\n",
    "df_Dependents['Churn %'] = [round(i*100/sum(df_Dependents_churn.Dependents),1) for i in df_Dependents_churn.Dependents]\n",
    "\n",
    "df_Dependents_nonchurn = pd.DataFrame(df.Dependents[(df[\"Churn\"] == 'No')].value_counts())\n",
    "df_Dependents['Non-Churn'] = df_Dependents_nonchurn.Dependents\n",
    "df_Dependents['Non-Churn %'] = [round(i*100/sum(df_Dependents_nonchurn.Dependents),1) for i in df_Dependents_nonchurn.Dependents]\n",
    "\n",
    "print(df_Dependents)\n",
    "\n",
    "# Chart\n",
    "\n",
    "plt.figure(figsize=(9,4))\n",
    "\n",
    "ax = sns.countplot(data = df, palette = 'mako', x=\"Dependents\", hue = \"Churn\")\n",
    "\n",
    "plt.xlabel(\"Dependents\", fontsize= 14)\n",
    "plt.ylabel(\"Number of Customers\", fontsize= 13)\n",
    "plt.ylim(0,6000)\n",
    "plt.xticks(fontsize= 12)\n",
    "plt.yticks(fontsize= 12)\n",
    "\n",
    "for p in ax.patches:\n",
    "        ax.annotate((p.get_height()), (p.get_x()+0.1, p.get_height()+100), fontsize= 12)"
   ]
  },
  {
   "cell_type": "markdown",
   "id": "76c2738e",
   "metadata": {},
   "source": [
    "- **Customers with dependents are more likely to stop using the service than customers without dependents**.\n",
    "\n",
    "- About 71% of customers with dependents have stopped using the service, while only 15% of customers without dependents have stopped using the service.\n",
    "\n",
    "- About 56% of customers without dependents are still using the service, while only 29% of customers with dependents are still using the service.\n",
    "\n",
    "- About 14% of customers have an unknown dependent status."
   ]
  },
  {
   "cell_type": "markdown",
   "id": "a32d71fd",
   "metadata": {},
   "source": [
    "### Customer Services Booked Analysis"
   ]
  },
  {
   "cell_type": "markdown",
   "id": "e39da62c",
   "metadata": {},
   "source": [
    "#### What's the insight on churn and non-churn customers based on customer services booked such as phone service, multiple lines, internet service, online security, online backup, device protection, tech support, streaming TV, and streaming movies.\n"
   ]
  },
  {
   "cell_type": "markdown",
   "id": "e6262913",
   "metadata": {},
   "source": [
    "* #### PhoneService"
   ]
  },
  {
   "cell_type": "code",
   "execution_count": 22,
   "id": "0b82b2d6",
   "metadata": {},
   "outputs": [
    {
     "name": "stdout",
     "output_type": "stream",
     "text": [
      "     PhoneService  Percent  Churn  Churn %  Non-Churn  Non-Churn %\n",
      "Yes          6361     90.3   1699     90.9       4662         90.1\n",
      "No            682      9.7    170      9.1        512          9.9\n"
     ]
    },
    {
     "data": {
      "image/png": "[encoded data removed]",
      "text/plain": [
       "<Figure size 648x288 with 1 Axes>"
      ]
     },
     "metadata": {
      "needs_background": "light"
     },
     "output_type": "display_data"
    }
   ],
   "source": [
    "# Description Percent\n",
    "df_PhoneService = pd.DataFrame(df[\"PhoneService\"].value_counts())\n",
    "df_PhoneService['Percent'] = [round(i*100/sum(df_PhoneService.PhoneService),1) for i in df_PhoneService.PhoneService]\n",
    "\n",
    "df_PhoneService_churn = pd.DataFrame(df.PhoneService[(df[\"Churn\"] == 'Yes')].value_counts())\n",
    "df_PhoneService['Churn'] = df_PhoneService_churn.PhoneService\n",
    "df_PhoneService['Churn %'] = [round(i*100/sum(df_PhoneService_churn.PhoneService),1) for i in df_PhoneService_churn.PhoneService]\n",
    "\n",
    "df_PhoneService_nonchurn = pd.DataFrame(df.PhoneService[(df[\"Churn\"] == 'No')].value_counts())\n",
    "df_PhoneService['Non-Churn'] = df_PhoneService_nonchurn.PhoneService\n",
    "df_PhoneService['Non-Churn %'] = [round(i*100/sum(df_PhoneService_nonchurn.PhoneService),1) for i in df_PhoneService_nonchurn.PhoneService]\n",
    "\n",
    "print(df_PhoneService)\n",
    "\n",
    "# Chart\n",
    "\n",
    "plt.figure(figsize=(9,4))\n",
    "\n",
    "ax = sns.countplot(data = df, palette = 'mako', x=\"PhoneService\", hue = \"Churn\")\n",
    "\n",
    "plt.xlabel(\"Phone Service\", fontsize= 14)\n",
    "plt.ylabel(\"Number of Customers\", fontsize= 13)\n",
    "plt.ylim(0,6000)\n",
    "plt.xticks(fontsize= 12)\n",
    "plt.yticks(fontsize= 12)\n",
    "\n",
    "for p in ax.patches:\n",
    "        ax.annotate((p.get_height()), (p.get_x()+0.14, p.get_height()+200), fontsize= 12)"
   ]
  },
  {
   "cell_type": "markdown",
   "id": "2d9f85d1",
   "metadata": {},
   "source": [
    "- **Customers with phone service are less likely to continue using the service than customers without phone service**.\n",
    "\n",
    "- About 91% of customers with phone service have stopped using the service, while only 9% of customers without phone service have stopped using the service.\n",
    "\n",
    "- About 90% of customers without phone service are still using the service, while only 9% of customers with phone service are still using the service.\n",
    "\n",
    "- About 10% of customers have an unknown phone service status."
   ]
  },
  {
   "cell_type": "markdown",
   "id": "8257d4d2",
   "metadata": {},
   "source": [
    "* #### MultipleLines"
   ]
  },
  {
   "cell_type": "code",
   "execution_count": 23,
   "id": "4cfbcb56",
   "metadata": {},
   "outputs": [
    {
     "name": "stdout",
     "output_type": "stream",
     "text": [
      "                  MultipleLines  Percent  Churn  Churn %  Non-Churn  \\\n",
      "No                         2908     41.3    724     39.4       2184   \n",
      "Yes                        2537     36.0    737     38.7       1800   \n",
      "Unknown                    1009     14.3    261     14.0        748   \n",
      "No phone service            589      8.4    147      7.9        442   \n",
      "\n",
      "                  Non-Churn %  \n",
      "No                       42.2  \n",
      "Yes                      34.8  \n",
      "Unknown                  14.5  \n",
      "No phone service          8.5  \n"
     ]
    },
    {
     "data": {
      "image/png": "[encoded data removed]",
      "text/plain": [
       "<Figure size 648x288 with 1 Axes>"
      ]
     },
     "metadata": {
      "needs_background": "light"
     },
     "output_type": "display_data"
    }
   ],
   "source": [
    "# Description Percent\n",
    "df_MultipleLines = pd.DataFrame(df[\"MultipleLines\"].value_counts())\n",
    "df_MultipleLines['Percent'] = [round(i*100/sum(df_MultipleLines.MultipleLines),1) for i in df_MultipleLines.MultipleLines]\n",
    "\n",
    "df_MultipleLines_churn = pd.DataFrame(df.MultipleLines[(df[\"Churn\"] == 'Yes')].value_counts())\n",
    "df_MultipleLines['Churn'] = df_MultipleLines_churn.MultipleLines\n",
    "df_MultipleLines['Churn %'] = [round(i*100/sum(df_MultipleLines_churn.MultipleLines),1) for i in df_MultipleLines_churn.MultipleLines]\n",
    "\n",
    "df_MultipleLines_nonchurn = pd.DataFrame(df.MultipleLines[(df[\"Churn\"] == 'No')].value_counts())\n",
    "df_MultipleLines['Non-Churn'] = df_MultipleLines_nonchurn.MultipleLines\n",
    "df_MultipleLines['Non-Churn %'] = [round(i*100/sum(df_MultipleLines_nonchurn.MultipleLines),1) for i in df_MultipleLines_nonchurn.MultipleLines]\n",
    "\n",
    "print(df_MultipleLines)\n",
    "\n",
    "# Chart\n",
    "\n",
    "plt.figure(figsize=(9,4))\n",
    "\n",
    "ax = sns.countplot(data = df, palette = 'mako', x=\"MultipleLines\", hue = \"Churn\")\n",
    "\n",
    "plt.xlabel(\"Multiple Lines\", fontsize= 14)\n",
    "plt.ylabel(\"Number of Customers\", fontsize= 13)\n",
    "plt.ylim(0,6000)\n",
    "plt.xticks(fontsize= 12)\n",
    "plt.yticks(fontsize= 12)\n",
    "\n",
    "for p in ax.patches:\n",
    "        ax.annotate((p.get_height()), (p.get_x()+0.1, p.get_height()+200), fontsize= 12)"
   ]
  },
  {
   "cell_type": "markdown",
   "id": "70e7d5e6",
   "metadata": {},
   "source": [
    "- **Customers with multiple lines are not more likely to stop using the service than customers without multiple lines**.\n",
    "\n",
    "- About 39% of customers with multiple lines have stopped using the service, while about 38% of customers without multiple lines have stopped using the service.\n",
    "\n",
    "- About 42% of customers without multiple lines are still using the service, while about 35% of customers with multiple lines are still using the service.\n",
    "\n",
    "- About 14% of customers have an unknown multiple line status."
   ]
  },
  {
   "cell_type": "markdown",
   "id": "f447a811",
   "metadata": {},
   "source": [
    "* #### InternetService"
   ]
  },
  {
   "cell_type": "code",
   "execution_count": 24,
   "id": "57600358",
   "metadata": {},
   "outputs": [
    {
     "name": "stdout",
     "output_type": "stream",
     "text": [
      "             InternetService  Percent  Churn  Churn %  Non-Churn  Non-Churn %\n",
      "Fiber optic             2621     37.2   1109     59.3       1109         59.3\n",
      "DSL                     2092     29.7    401     21.5        401         21.5\n",
      "No                      1321     18.8     98     14.0         98         14.0\n",
      "Unknown                 1009     14.3    261      5.2        261          5.2\n"
     ]
    },
    {
     "data": {
      "image/png": "[encoded data removed]",
      "text/plain": [
       "<Figure size 648x288 with 1 Axes>"
      ]
     },
     "metadata": {
      "needs_background": "light"
     },
     "output_type": "display_data"
    }
   ],
   "source": [
    "# Description Percent\n",
    "df_InternetService = pd.DataFrame(df[\"InternetService\"].value_counts())\n",
    "df_InternetService['Percent'] = [round(i*100/sum(df_InternetService.InternetService),1) for i in df_InternetService.InternetService]\n",
    "\n",
    "df_InternetService_churn = pd.DataFrame(df.InternetService[(df[\"Churn\"] == 'Yes')].value_counts())\n",
    "df_InternetService['Churn'] = df_InternetService_churn.InternetService\n",
    "df_InternetService['Churn %'] = [round(i*100/sum(df_InternetService_churn.InternetService),1) for i in df_InternetService_churn.InternetService]\n",
    "\n",
    "df_InternetService_nonchurn = pd.DataFrame(df.InternetService[(df[\"Churn\"] == 'Yes')].value_counts())\n",
    "df_InternetService['Non-Churn'] = df_InternetService_nonchurn.InternetService\n",
    "df_InternetService['Non-Churn %'] = [round(i*100/sum(df_InternetService_nonchurn.InternetService),1) for i in df_InternetService_nonchurn.InternetService]\n",
    "\n",
    "print(df_InternetService)\n",
    "\n",
    "# Chart\n",
    "\n",
    "plt.figure(figsize=(9,4))\n",
    "\n",
    "ax = sns.countplot(data = df, palette = 'mako', x=\"InternetService\", hue = \"Churn\")\n",
    "\n",
    "plt.xlabel(\"Internet Service\", fontsize= 14)\n",
    "plt.ylabel(\"Number of Customers\", fontsize= 13)\n",
    "plt.ylim(0,6000)\n",
    "plt.xticks(fontsize= 12)\n",
    "plt.yticks(fontsize= 12)\n",
    "\n",
    "for p in ax.patches:\n",
    "        ax.annotate((p.get_height()), (p.get_x()+0.1, p.get_height()+200), fontsize= 12)"
   ]
  },
  {
   "cell_type": "markdown",
   "id": "d0a93bf3",
   "metadata": {},
   "source": [
    "- **Customers who use fiber optic internet service are more likely to stop using the service than customers who use DSL internet service**.\n",
    "\n",
    "- About 59% of customers who use fiber optic internet service have stopped using the service, while about 22% of customers who use DSL internet service have stopped using the service.\n",
    "\n",
    "- About 33% of customers who use fiber optic internet service are still using the service, while about 30% of customers who use DSL internet service are still using the service.\n",
    "\n",
    "- About 14% of customers do not have internet service.\n",
    "\n",
    "- About 5% of customers have an unknown internet service status."
   ]
  },
  {
   "cell_type": "markdown",
   "id": "be74db5e",
   "metadata": {},
   "source": [
    "* #### OnlineSecurity"
   ]
  },
  {
   "cell_type": "code",
   "execution_count": 25,
   "id": "837a6547",
   "metadata": {},
   "outputs": [
    {
     "name": "stdout",
     "output_type": "stream",
     "text": [
      "                     OnlineSecurity  Percent  Churn  Churn %  Non-Churn  \\\n",
      "No                             2993     42.5   1259     67.4       1734   \n",
      "Yes                            1720     24.4    251     14.0       1469   \n",
      "No internet service            1321     18.8     98     13.4       1223   \n",
      "Unknown                        1009     14.3    261      5.2        748   \n",
      "\n",
      "                     Non-Churn %  \n",
      "No                          33.5  \n",
      "Yes                         28.4  \n",
      "No internet service         23.6  \n",
      "Unknown                     14.5  \n"
     ]
    },
    {
     "data": {
      "image/png": "[encoded data removed]",
      "text/plain": [
       "<Figure size 648x288 with 1 Axes>"
      ]
     },
     "metadata": {
      "needs_background": "light"
     },
     "output_type": "display_data"
    }
   ],
   "source": [
    "# Description Percent\n",
    "df_OnlineSecurity = pd.DataFrame(df[\"OnlineSecurity\"].value_counts())\n",
    "df_OnlineSecurity['Percent'] = [round(i*100/sum(df_OnlineSecurity.OnlineSecurity),1) for i in df_OnlineSecurity.OnlineSecurity]\n",
    "\n",
    "df_OnlineSecurity_churn = pd.DataFrame(df.OnlineSecurity[(df[\"Churn\"] == 'Yes')].value_counts())\n",
    "df_OnlineSecurity['Churn'] = df_OnlineSecurity_churn.OnlineSecurity\n",
    "df_OnlineSecurity['Churn %'] = [round(i*100/sum(df_OnlineSecurity_churn.OnlineSecurity),1) for i in df_OnlineSecurity_churn.OnlineSecurity]\n",
    "\n",
    "df_OnlineSecurity_nonchurn = pd.DataFrame(df.OnlineSecurity[(df[\"Churn\"] == 'No')].value_counts())\n",
    "df_OnlineSecurity['Non-Churn'] = df_OnlineSecurity_nonchurn.OnlineSecurity\n",
    "df_OnlineSecurity['Non-Churn %'] = [round(i*100/sum(df_OnlineSecurity_nonchurn.OnlineSecurity),1) for i in df_OnlineSecurity_nonchurn.OnlineSecurity]\n",
    "\n",
    "print(df_OnlineSecurity)\n",
    "\n",
    "# Chart\n",
    "\n",
    "plt.figure(figsize=(9,4))\n",
    "\n",
    "ax = sns.countplot(data = df, palette = 'mako', x=\"OnlineSecurity\", hue = \"Churn\")\n",
    "\n",
    "plt.xlabel(\"Online Security\", fontsize= 14)\n",
    "plt.ylabel(\"Number of Customers\", fontsize= 13)\n",
    "plt.ylim(0,6000)\n",
    "plt.xticks(fontsize= 12)\n",
    "plt.yticks(fontsize= 12)\n",
    "\n",
    "for p in ax.patches:\n",
    "        ax.annotate((p.get_height()), (p.get_x()+0.1, p.get_height()+200), fontsize= 12)"
   ]
  },
  {
   "cell_type": "markdown",
   "id": "aba2f441",
   "metadata": {},
   "source": [
    "- **Customers who do not use online security are more likely to stop using the service than customers who do use online security**.\n",
    "\n",
    "- About 86% of customers who do not use online security have stopped using the service, while only 33% of customers who do use online security have stopped using the service.\n",
    "\n",
    "- About 66% of customers who use online security are still using the service, while only 28% of customers who do not use online security are still using the service.\n",
    "\n",
    "- About 13% of customers do not have internet service.\n",
    "\n",
    "- About 5% of customers have an unknown online security status."
   ]
  },
  {
   "cell_type": "markdown",
   "id": "e4cfd13f",
   "metadata": {},
   "source": [
    "* #### OnlineBackup"
   ]
  },
  {
   "cell_type": "code",
   "execution_count": 26,
   "id": "6eaae750",
   "metadata": {},
   "outputs": [
    {
     "name": "stdout",
     "output_type": "stream",
     "text": [
      "                     OnlineBackup  Percent  Churn  Churn %  Non-Churn  \\\n",
      "No                           2643     37.5   1067     57.1       1576   \n",
      "Yes                          2070     29.4    443     23.7       1627   \n",
      "No internet service          1321     18.8     98     14.0       1223   \n",
      "Unknown                      1009     14.3    261      5.2        748   \n",
      "\n",
      "                     Non-Churn %  \n",
      "No                          31.4  \n",
      "Yes                         30.5  \n",
      "No internet service         23.6  \n",
      "Unknown                     14.5  \n"
     ]
    },
    {
     "data": {
      "image/png": "[encoded data removed]",
      "text/plain": [
       "<Figure size 648x288 with 1 Axes>"
      ]
     },
     "metadata": {
      "needs_background": "light"
     },
     "output_type": "display_data"
    }
   ],
   "source": [
    "# Description Percent\n",
    "df_OnlineBackup = pd.DataFrame(df[\"OnlineBackup\"].value_counts())\n",
    "df_OnlineBackup['Percent'] = [round(i*100/sum(df_OnlineBackup.OnlineBackup),1) for i in df_OnlineBackup.OnlineBackup]\n",
    "\n",
    "df_OnlineBackup_churn = pd.DataFrame(df.OnlineBackup[(df[\"Churn\"] == 'Yes')].value_counts())\n",
    "df_OnlineBackup['Churn'] = df_OnlineBackup_churn.OnlineBackup\n",
    "df_OnlineBackup['Churn %'] = [round(i*100/sum(df_OnlineBackup_churn.OnlineBackup),1) for i in df_OnlineBackup_churn.OnlineBackup]\n",
    "\n",
    "df_OnlineBackup_nonchurn = pd.DataFrame(df.OnlineBackup[(df[\"Churn\"] == 'No')].value_counts())\n",
    "df_OnlineBackup['Non-Churn'] = df_OnlineBackup_nonchurn.OnlineBackup\n",
    "df_OnlineBackup['Non-Churn %'] = [round(i*100/sum(df_OnlineBackup_nonchurn.OnlineBackup),1) for i in df_OnlineBackup_nonchurn.OnlineBackup]\n",
    "\n",
    "print(df_OnlineBackup)\n",
    "\n",
    "# Chart\n",
    "\n",
    "plt.figure(figsize=(9,4))\n",
    "\n",
    "ax = sns.countplot(data = df, palette = 'mako', x=\"OnlineBackup\", hue = \"Churn\")\n",
    "\n",
    "plt.xlabel(\"Online Backup\", fontsize= 14)\n",
    "plt.ylabel(\"Number of Customers\", fontsize= 13)\n",
    "plt.ylim(0,6000)\n",
    "plt.xticks(fontsize= 12)\n",
    "plt.yticks(fontsize= 12)\n",
    "\n",
    "for p in ax.patches:\n",
    "        ax.annotate((p.get_height()), (p.get_x()+0.1, p.get_height()+200), fontsize= 12)"
   ]
  },
  {
   "cell_type": "markdown",
   "id": "7638c76e",
   "metadata": {},
   "source": [
    "- **Customers who do not use online backup are more likely to stop using the service than customers who do use online backup**.\n",
    "\n",
    "- About 76% of customers who do not use online backup have stopped using the service, while only 43% of customers who do use online backup have stopped using the service.\n",
    "\n",
    "- About 69% of customers who use online backup are still using the service, while only 30% of customers who do not use online backup are still using the service.\n",
    "\n",
    "- About 14% of customers do not have internet service.\n",
    "\n",
    "- About 5% of customers have an unknown online backup status."
   ]
  },
  {
   "cell_type": "markdown",
   "id": "1ca3b15e",
   "metadata": {},
   "source": [
    "* #### DeviceProtection"
   ]
  },
  {
   "cell_type": "code",
   "execution_count": 27,
   "id": "a80f3e7c",
   "metadata": {},
   "outputs": [
    {
     "name": "stdout",
     "output_type": "stream",
     "text": [
      "                     DeviceProtection  Percent  DeviceProtection churn  \\\n",
      "No                               2643     37.5                    1043   \n",
      "Yes                              2070     29.4                     467   \n",
      "No internet service              1321     18.8                      98   \n",
      "Unknown                          1009     14.3                     261   \n",
      "\n",
      "                     Percent churn  \n",
      "No                            55.8  \n",
      "Yes                           25.0  \n",
      "No internet service           14.0  \n",
      "Unknown                        5.2  \n"
     ]
    },
    {
     "data": {
      "image/png": "[encoded data removed]",
      "text/plain": [
       "<Figure size 648x288 with 1 Axes>"
      ]
     },
     "metadata": {
      "needs_background": "light"
     },
     "output_type": "display_data"
    }
   ],
   "source": [
    "# Description Percent\n",
    "df_DeviceProtection = pd.DataFrame(df[\"DeviceProtection\"].value_counts())\n",
    "df_DeviceProtection['Percent'] = [round(i*100/sum(df_DeviceProtection.DeviceProtection),1) for i in df_DeviceProtection.DeviceProtection]\n",
    "\n",
    "df_DeviceProtection_churn = pd.DataFrame(df.DeviceProtection[(df[\"Churn\"] == 'Yes')].value_counts())\n",
    "df_DeviceProtection['DeviceProtection churn'] = df_DeviceProtection_churn.DeviceProtection\n",
    "df_DeviceProtection['Percent churn'] = [round(i*100/sum(df_DeviceProtection_churn.DeviceProtection),1) for i in df_DeviceProtection_churn.DeviceProtection]\n",
    "\n",
    "print(df_DeviceProtection)\n",
    "\n",
    "# Chart\n",
    "\n",
    "plt.figure(figsize=(9,4))\n",
    "\n",
    "ax = sns.countplot(data = df, palette = 'mako', x=\"DeviceProtection\", hue = \"Churn\")\n",
    "\n",
    "plt.xlabel(\"Device Protection\", fontsize= 14)\n",
    "plt.ylabel(\"Number of Customers\", fontsize= 13)\n",
    "plt.ylim(0,6000)\n",
    "plt.xticks(fontsize= 12)\n",
    "plt.yticks(fontsize= 12)\n",
    "\n",
    "for p in ax.patches:\n",
    "        ax.annotate((p.get_height()), (p.get_x()+0.1, p.get_height()+200), fontsize= 12)"
   ]
  },
  {
   "cell_type": "markdown",
   "id": "fc02faac",
   "metadata": {},
   "source": [
    "- **Customers who do not use device protection are more likely to stop using the service than customers who do use device protection**.\n",
    "\n",
    "- About 70% of customers who do not use device protection have stopped using the service, while only 62.5% of customers who do use device protection have stopped using the service.\n",
    "\n",
    "- About 75% of customers who use device protection are still using the service, while only 25% of customers who do not use device protection are still using the service.\n",
    "\n",
    "- About 19% of customers do not have internet service.\n",
    "\n",
    "- About 5% of customers have an unknown device protection status."
   ]
  },
  {
   "cell_type": "markdown",
   "id": "7a400a1f",
   "metadata": {},
   "source": [
    "* #### TechSupport"
   ]
  },
  {
   "cell_type": "code",
   "execution_count": 28,
   "id": "2f1bc154",
   "metadata": {},
   "outputs": [
    {
     "name": "stdout",
     "output_type": "stream",
     "text": [
      "                     TechSupport  Percent  Churn  Churn %  Non-Churn  \\\n",
      "No                          2973     42.2   1235     66.1       1738   \n",
      "Yes                         1740     24.7    275     14.7       1465   \n",
      "No internet service         1321     18.8     98     14.0       1223   \n",
      "Unknown                     1009     14.3    261      5.2        748   \n",
      "\n",
      "                     Non-Churn %  \n",
      "No                          33.6  \n",
      "Yes                         28.3  \n",
      "No internet service         23.6  \n",
      "Unknown                     14.5  \n"
     ]
    },
    {
     "data": {
      "image/png": "[encoded data removed]",
      "text/plain": [
       "<Figure size 648x288 with 1 Axes>"
      ]
     },
     "metadata": {
      "needs_background": "light"
     },
     "output_type": "display_data"
    }
   ],
   "source": [
    "# Description Percent\n",
    "df_TechSupport = pd.DataFrame(df[\"TechSupport\"].value_counts())\n",
    "df_TechSupport['Percent'] = [round(i*100/sum(df_TechSupport.TechSupport),1) for i in df_TechSupport.TechSupport]\n",
    "\n",
    "df_TechSupport_churn = pd.DataFrame(df.TechSupport[(df[\"Churn\"] == 'Yes')].value_counts())\n",
    "df_TechSupport['Churn'] = df_TechSupport_churn.TechSupport\n",
    "df_TechSupport['Churn %'] = [round(i*100/sum(df_TechSupport_churn.TechSupport),1) for i in df_TechSupport_churn.TechSupport]\n",
    "\n",
    "df_TechSupport_nonchurn = pd.DataFrame(df.TechSupport[(df[\"Churn\"] == 'No')].value_counts())\n",
    "df_TechSupport['Non-Churn'] = df_TechSupport_nonchurn.TechSupport\n",
    "df_TechSupport['Non-Churn %'] = [round(i*100/sum(df_TechSupport_nonchurn.TechSupport),1) for i in df_TechSupport_nonchurn.TechSupport]\n",
    "\n",
    "print(df_TechSupport)\n",
    "\n",
    "# Chart\n",
    "\n",
    "plt.figure(figsize=(9,4))\n",
    "\n",
    "ax = sns.countplot(data = df, palette = 'mako', x=\"TechSupport\", hue = \"Churn\")\n",
    "\n",
    "plt.xlabel(\"Tech Support\", fontsize= 14)\n",
    "plt.ylabel(\"Number of Customers\", fontsize= 13)\n",
    "plt.ylim(0,6000)\n",
    "plt.xticks(fontsize= 12)\n",
    "plt.yticks(fontsize= 12)\n",
    "\n",
    "for p in ax.patches:\n",
    "        ax.annotate((p.get_height()), (p.get_x()+0.1, p.get_height()+200), fontsize= 12)"
   ]
  },
  {
   "cell_type": "markdown",
   "id": "fec78b45",
   "metadata": {},
   "source": [
    "- **Customers who do not use tech support are more likely to stop using the service than customers who do use tech support**.\n",
    "\n",
    "- About 85% of customers who do not use tech support have stopped using the service, while only 34% of customers who do use tech support have stopped using the service.\n",
    "\n",
    "- About 66% of customers who use tech support are still using the service, while only 28% of customers who do not use tech support are still using the service.\n",
    "\n",
    "- About 14% of customers do not have internet service.\n",
    "\n",
    "- About 5% of customers have an unknown tech support status."
   ]
  },
  {
   "cell_type": "markdown",
   "id": "2884b175",
   "metadata": {},
   "source": [
    "* #### StreamingTV"
   ]
  },
  {
   "cell_type": "code",
   "execution_count": 29,
   "id": "797f3cd8",
   "metadata": {},
   "outputs": [
    {
     "name": "stdout",
     "output_type": "stream",
     "text": [
      "                     StreamingTV  Percent  Churn  Churn %  Non-Churn  \\\n",
      "No                          2403     34.1    802     42.9       1601   \n",
      "Yes                         2310     32.8    708     37.9       1602   \n",
      "No internet service         1321     18.8     98     14.0       1223   \n",
      "Unknown                     1009     14.3    261      5.2        748   \n",
      "\n",
      "                     Non-Churn %  \n",
      "No                          31.0  \n",
      "Yes                         30.9  \n",
      "No internet service         23.6  \n",
      "Unknown                     14.5  \n"
     ]
    },
    {
     "data": {
      "image/png": "[encoded data removed]",
      "text/plain": [
       "<Figure size 648x288 with 1 Axes>"
      ]
     },
     "metadata": {
      "needs_background": "light"
     },
     "output_type": "display_data"
    }
   ],
   "source": [
    "# Description Percent\n",
    "df_StreamingTV = pd.DataFrame(df[\"StreamingTV\"].value_counts())\n",
    "df_StreamingTV['Percent'] = [round(i*100/sum(df_StreamingTV.StreamingTV),1) for i in df_StreamingTV.StreamingTV]\n",
    "\n",
    "df_StreamingTV_churn = pd.DataFrame(df.StreamingTV[(df[\"Churn\"] == 'Yes')].value_counts())\n",
    "df_StreamingTV['Churn'] = df_StreamingTV_churn.StreamingTV\n",
    "df_StreamingTV['Churn %'] = [round(i*100/sum(df_StreamingTV_churn.StreamingTV),1) for i in df_StreamingTV_churn.StreamingTV]\n",
    "\n",
    "df_StreamingTV_nonchurn = pd.DataFrame(df.StreamingTV[(df[\"Churn\"] == 'No')].value_counts())\n",
    "df_StreamingTV['Non-Churn'] = df_StreamingTV_nonchurn.StreamingTV\n",
    "df_StreamingTV['Non-Churn %'] = [round(i*100/sum(df_StreamingTV_nonchurn.StreamingTV),1) for i in df_StreamingTV_nonchurn.StreamingTV]\n",
    "\n",
    "print(df_StreamingTV)\n",
    "\n",
    "# Chart\n",
    "\n",
    "plt.figure(figsize=(9,4))\n",
    "\n",
    "ax = sns.countplot(data = df, palette = 'mako', x=\"StreamingTV\", hue = \"Churn\")\n",
    "\n",
    "plt.xlabel(\"Streaming TV\", fontsize= 14)\n",
    "plt.ylabel(\"Number of Customers\", fontsize= 13)\n",
    "plt.ylim(0,6000)\n",
    "plt.xticks(fontsize= 12)\n",
    "plt.yticks(fontsize= 12)\n",
    "\n",
    "for p in ax.patches:\n",
    "        ax.annotate((p.get_height()), (p.get_x()+0.1, p.get_height()+200), fontsize= 12)"
   ]
  },
  {
   "cell_type": "markdown",
   "id": "d65c1136",
   "metadata": {},
   "source": [
    "- **There is no significant difference in the churn rate between customers who use streaming TV services and customers who do not use streaming TV services**.\n",
    "\n",
    "- About 38% of customers who use streaming TV services have stopped using the service, while about 43% of customers who do not use streaming TV services have stopped using the service.\n",
    "\n",
    "- About 31% of customers who use streaming TV services are still using the service, while about 31% of customers who do not use streaming TV services are still using the service.\n",
    "\n",
    "- About 14% of customers do not have internet service.\n",
    "\n",
    "- About 5% of customers have an unknown streaming TV service status."
   ]
  },
  {
   "cell_type": "markdown",
   "id": "3ecb75c5",
   "metadata": {},
   "source": [
    "* #### StreamingMovies"
   ]
  },
  {
   "cell_type": "code",
   "execution_count": 30,
   "id": "ba0b0b6c",
   "metadata": {},
   "outputs": [
    {
     "name": "stdout",
     "output_type": "stream",
     "text": [
      "                     StreamingMovies  Percent  Churn  Churn %  Non-Churn  \\\n",
      "No                              2394     34.0    813     43.5       1581   \n",
      "Yes                             2319     32.9    697     37.3       1622   \n",
      "No internet service             1321     18.8     98     14.0       1223   \n",
      "Unknown                         1009     14.3    261      5.2        748   \n",
      "\n",
      "                     Non-Churn %  \n",
      "No                          31.3  \n",
      "Yes                         30.6  \n",
      "No internet service         23.6  \n",
      "Unknown                     14.5  \n"
     ]
    },
    {
     "data": {
      "image/png": "[encoded data removed]",
      "text/plain": [
       "<Figure size 648x288 with 1 Axes>"
      ]
     },
     "metadata": {
      "needs_background": "light"
     },
     "output_type": "display_data"
    }
   ],
   "source": [
    "# Description Percent\n",
    "df_StreamingMovies = pd.DataFrame(df[\"StreamingMovies\"].value_counts())\n",
    "df_StreamingMovies['Percent'] = [round(i*100/sum(df_StreamingMovies.StreamingMovies),1) for i in df_StreamingMovies.StreamingMovies]\n",
    "\n",
    "df_StreamingMovies_churn = pd.DataFrame(df.StreamingMovies[(df[\"Churn\"] == 'Yes')].value_counts())\n",
    "df_StreamingMovies['Churn'] = df_StreamingMovies_churn.StreamingMovies\n",
    "df_StreamingMovies['Churn %'] = [round(i*100/sum(df_StreamingMovies_churn.StreamingMovies),1) for i in df_StreamingMovies_churn.StreamingMovies]\n",
    "\n",
    "df_StreamingMovies_nonchurn = pd.DataFrame(df.StreamingMovies[(df[\"Churn\"] == 'No')].value_counts())\n",
    "df_StreamingMovies['Non-Churn'] = df_StreamingMovies_nonchurn.StreamingMovies\n",
    "df_StreamingMovies['Non-Churn %'] = [round(i*100/sum(df_StreamingMovies_nonchurn.StreamingMovies),1) for i in df_StreamingMovies_nonchurn.StreamingMovies]\n",
    "\n",
    "print(df_StreamingMovies)\n",
    "\n",
    "# Chart\n",
    "\n",
    "plt.figure(figsize=(9,4))\n",
    "\n",
    "ax = sns.countplot(data = df, palette = 'mako', x=\"StreamingMovies\", hue = \"Churn\")\n",
    "\n",
    "plt.xlabel(\"Streaming Movies\", fontsize= 14)\n",
    "plt.ylabel(\"Number of Customers\", fontsize= 13)\n",
    "plt.ylim(0,6000)\n",
    "plt.xticks(fontsize= 12)\n",
    "plt.yticks(fontsize= 12)\n",
    "\n",
    "for p in ax.patches:\n",
    "        ax.annotate((p.get_height()), (p.get_x()+0.1, p.get_height()+200), fontsize= 12)"
   ]
  },
  {
   "cell_type": "markdown",
   "id": "638ef541",
   "metadata": {},
   "source": [
    "- **Customers who do not use movie streaming services are more likely to stop using the service than customers who do use movie streaming services**.\n",
    "\n",
    "- About 43% of customers who do not use movie streaming services have stopped using the service, while only 37% of customers who do use movie streaming services have stopped using the service.\n",
    "\n",
    "- About 31% of customers who use movie streaming services are still using the service, while about 30% of customers who do not use movie streaming services are still using the service.\n",
    "\n",
    "- About 14% of customers do not have internet service.\n",
    "\n",
    "- About 5% of customers have an unknown movie streaming service status."
   ]
  },
  {
   "cell_type": "markdown",
   "id": "976ebab3",
   "metadata": {},
   "source": [
    "### Customer Account Information Analysis"
   ]
  },
  {
   "cell_type": "markdown",
   "id": "35671dcf",
   "metadata": {},
   "source": [
    "#### What's the insight on churn and non-churn customers based on customer account information such as paperless billing, payment method, and contract?\n"
   ]
  },
  {
   "cell_type": "markdown",
   "id": "767fc682",
   "metadata": {},
   "source": [
    "* #### PaperlessBilling"
   ]
  },
  {
   "cell_type": "code",
   "execution_count": 32,
   "id": "98b0f1eb",
   "metadata": {
    "scrolled": true
   },
   "outputs": [
    {
     "name": "stdout",
     "output_type": "stream",
     "text": [
      "     PaperlessBilling  Percent  Churn  Churn %  Non-Churn  Non-Churn %\n",
      "Yes              4171     59.2   1400     74.9       2771         53.6\n",
      "No               2872     40.8    469     25.1       2403         46.4\n"
     ]
    },
    {
     "data": {
      "image/png": "[encoded data removed]",
      "text/plain": [
       "<Figure size 648x288 with 1 Axes>"
      ]
     },
     "metadata": {
      "needs_background": "light"
     },
     "output_type": "display_data"
    }
   ],
   "source": [
    "# Description Percent\n",
    "df_PaperlessBilling = pd.DataFrame(df[\"PaperlessBilling\"].value_counts())\n",
    "df_PaperlessBilling['Percent'] = [round(i*100/sum(df_PaperlessBilling.PaperlessBilling),1) for i in df_PaperlessBilling.PaperlessBilling]\n",
    "\n",
    "df_PaperlessBilling_churn = pd.DataFrame(df.PaperlessBilling[(df[\"Churn\"] == 'Yes')].value_counts())\n",
    "df_PaperlessBilling['Churn'] = df_PaperlessBilling_churn.PaperlessBilling\n",
    "df_PaperlessBilling['Churn %'] = [round(i*100/sum(df_PaperlessBilling_churn.PaperlessBilling),1) for i in df_PaperlessBilling_churn.PaperlessBilling]\n",
    "\n",
    "df_PaperlessBilling_nonchurn = pd.DataFrame(df.PaperlessBilling[(df[\"Churn\"] == 'No')].value_counts())\n",
    "df_PaperlessBilling['Non-Churn'] = df_PaperlessBilling_nonchurn.PaperlessBilling\n",
    "df_PaperlessBilling['Non-Churn %'] = [round(i*100/sum(df_PaperlessBilling_nonchurn.PaperlessBilling),1) for i in df_PaperlessBilling_nonchurn.PaperlessBilling]\n",
    "\n",
    "print(df_PaperlessBilling)\n",
    "\n",
    "# Chart\n",
    "\n",
    "plt.figure(figsize=(9,4))\n",
    "\n",
    "ax = sns.countplot(data = df, palette = 'mako', x=\"PaperlessBilling\", hue = \"Churn\")\n",
    "\n",
    "plt.xlabel(\"Paperless Billing\", fontsize= 14)\n",
    "plt.ylabel(\"Number of Customers\", fontsize= 13)\n",
    "plt.ylim(0,6000)\n",
    "plt.xticks(fontsize= 12)\n",
    "plt.yticks(fontsize= 12)\n",
    "\n",
    "for p in ax.patches:\n",
    "        ax.annotate((p.get_height()), (p.get_x()+0.1, p.get_height()+200), fontsize= 12)"
   ]
  },
  {
   "cell_type": "markdown",
   "id": "edb51104",
   "metadata": {},
   "source": [
    "- **Customers who do not use paperless billing are significantly more likely to stop using the service than customers who do use paperless billing**.\n",
    "\n",
    "- About 75% of customers who do not use paperless billing have stopped using the service, while only 25% of customers who do use paperless billing have stopped using the service.\n",
    "\n",
    "- About 54% of customers who use paperless billing are still using the service, while about 46% of customers who do not use paperless billing are still using the service."
   ]
  },
  {
   "cell_type": "markdown",
   "id": "539f5e32",
   "metadata": {},
   "source": [
    "* #### PaymentMethod"
   ]
  },
  {
   "cell_type": "code",
   "execution_count": 33,
   "id": "9fc59527",
   "metadata": {
    "scrolled": false
   },
   "outputs": [
    {
     "name": "stdout",
     "output_type": "stream",
     "text": [
      "                           PaymentMethod  Percent  Churn  Churn %  Non-Churn  \\\n",
      "Electronic check                    2365     33.6   1071     57.3       1294   \n",
      "Mailed check                        1612     22.9    308     16.5       1304   \n",
      "Bank transfer (automatic)           1544     21.9    258     13.8       1286   \n",
      "Credit card (automatic)             1522     21.6    232     12.4       1290   \n",
      "\n",
      "                           Non-Churn %  \n",
      "Electronic check                  25.2  \n",
      "Mailed check                      25.0  \n",
      "Bank transfer (automatic)         24.9  \n",
      "Credit card (automatic)           24.9  \n"
     ]
    },
    {
     "data": {
      "text/plain": [
       "(array([0, 1, 2, 3]),\n",
       " [Text(0, 0, 'Electronic check'),\n",
       "  Text(0, 1, 'Mailed check'),\n",
       "  Text(0, 2, 'Bank transfer (automatic)'),\n",
       "  Text(0, 3, 'Credit card (automatic)')])"
      ]
     },
     "execution_count": 33,
     "metadata": {},
     "output_type": "execute_result"
    },
    {
     "data": {
      "image/png": "[encoded data removed]",
      "text/plain": [
       "<Figure size 648x288 with 1 Axes>"
      ]
     },
     "metadata": {
      "needs_background": "light"
     },
     "output_type": "display_data"
    }
   ],
   "source": [
    "# Description Percent\n",
    "df_PaymentMethod = pd.DataFrame(df[\"PaymentMethod\"].value_counts())\n",
    "df_PaymentMethod['Percent'] = [round(i*100/sum(df_PaymentMethod.PaymentMethod),1) for i in df_PaymentMethod.PaymentMethod]\n",
    "\n",
    "df_PaymentMethod_churn = pd.DataFrame(df.PaymentMethod[(df[\"Churn\"] == 'Yes')].value_counts())\n",
    "df_PaymentMethod['Churn'] = df_PaymentMethod_churn.PaymentMethod\n",
    "df_PaymentMethod['Churn %'] = [round(i*100/sum(df_PaymentMethod_churn.PaymentMethod),1) for i in df_PaymentMethod_churn.PaymentMethod]\n",
    "\n",
    "df_PaymentMethod_nonchurn = pd.DataFrame(df.PaymentMethod[(df[\"Churn\"] == 'No')].value_counts())\n",
    "df_PaymentMethod['Non-Churn'] = df_PaymentMethod_nonchurn.PaymentMethod\n",
    "df_PaymentMethod['Non-Churn %'] = [round(i*100/sum(df_PaymentMethod_nonchurn.PaymentMethod),1) for i in df_PaymentMethod_nonchurn.PaymentMethod]\n",
    "\n",
    "print(df_PaymentMethod)\n",
    "\n",
    "# Chart\n",
    "\n",
    "plt.figure(figsize=(9,4))\n",
    "\n",
    "ax = sns.countplot(data = df, palette = 'mako', y=\"PaymentMethod\", hue = \"Churn\")\n",
    "\n",
    "plt.ylabel(\"Payment Method\", fontsize= 14)\n",
    "plt.xlabel(\"Number of Customers\", fontsize= 13)\n",
    "plt.xlim(0,6000)\n",
    "plt.xticks(fontsize= 12)\n",
    "plt.yticks(fontsize= 12)"
   ]
  },
  {
   "cell_type": "markdown",
   "id": "11d7f958",
   "metadata": {},
   "source": [
    "- **Customers who use the electronic check payment method are more likely to stop using the service than customers who use other payment methods**.\n",
    "\n",
    "- About 57% of customers who use the electronic check payment method have stopped using the service, while about 17% of customers who use mailed checks, 14% of customers who use bank transfers (automatic), and 12% of customers who use credit cards (automatic) have stopped using the service.\n",
    "\n",
    "- About 25% of customers who use the electronic check payment method are still using the service, while about 25% of customers who use mailed checks, 25% of customers who use bank transfers (automatic), and 25% of customers who use credit cards (automatic) are still using the service."
   ]
  },
  {
   "cell_type": "markdown",
   "id": "d974a2a3",
   "metadata": {},
   "source": [
    "* #### Contract"
   ]
  },
  {
   "cell_type": "code",
   "execution_count": 31,
   "id": "ae79e564",
   "metadata": {},
   "outputs": [
    {
     "name": "stdout",
     "output_type": "stream",
     "text": [
      "                Contract  Percent  Churn  Churn %  Non-Churn  Non-Churn %\n",
      "Month-to-month      3875     55.0   1655     88.6       2220         42.9\n",
      "Two year            1695     24.1     48      8.9       1647         31.8\n",
      "One year            1473     20.9    166      2.6       1307         25.3\n"
     ]
    },
    {
     "data": {
      "image/png": "[encoded data removed]",
      "text/plain": [
       "<Figure size 648x288 with 1 Axes>"
      ]
     },
     "metadata": {
      "needs_background": "light"
     },
     "output_type": "display_data"
    }
   ],
   "source": [
    "# Description Percent\n",
    "df_Contract = pd.DataFrame(df[\"Contract\"].value_counts())\n",
    "df_Contract['Percent'] = [round(i*100/sum(df_Contract.Contract),1) for i in df_Contract.Contract]\n",
    "\n",
    "df_Contract_churn = pd.DataFrame(df.Contract[(df[\"Churn\"] == 'Yes')].value_counts())\n",
    "df_Contract['Churn'] = df_Contract_churn.Contract\n",
    "df_Contract['Churn %'] = [round(i*100/sum(df_Contract_churn.Contract),1) for i in df_Contract_churn.Contract]\n",
    "\n",
    "df_Contract_nonchurn = pd.DataFrame(df.Contract[(df[\"Churn\"] == 'No')].value_counts())\n",
    "df_Contract['Non-Churn'] = df_Contract_nonchurn.Contract\n",
    "df_Contract['Non-Churn %'] = [round(i*100/sum(df_Contract_nonchurn.Contract),1) for i in df_Contract_nonchurn.Contract]\n",
    "print(df_Contract)\n",
    "\n",
    "# Chart\n",
    "\n",
    "plt.figure(figsize=(9,4))\n",
    "\n",
    "ax = sns.countplot(data = df, palette = 'mako', x=\"Contract\", hue = \"Churn\")\n",
    "\n",
    "plt.xlabel(\"Contract\", fontsize= 14)\n",
    "plt.ylabel(\"Number of Customers\", fontsize= 13)\n",
    "plt.ylim(0,6000)\n",
    "plt.xticks(fontsize= 12)\n",
    "plt.yticks(fontsize= 12)\n",
    "\n",
    "for p in ax.patches:\n",
    "        ax.annotate((p.get_height()), (p.get_x()+0.1, p.get_height()+200), fontsize= 12)"
   ]
  },
  {
   "cell_type": "markdown",
   "id": "06aa9165",
   "metadata": {},
   "source": [
    "- **Customers who do not use month-to-month contracts are significantly more likely to stop using the service than customers who have one-year or two-year contracts**.\n",
    "\n",
    "- About 89% of customers who do not use month-to-month contracts have stopped using the service, while only 2% of customers who have one-year contracts and 9% of customers who have two-year contracts have stopped using the service.\n",
    "\n",
    "- About 32% of customers who do not use month-to-month contracts are still using the service, while about 25% of customers who have one-year contracts and 32% of customers who have two-year contracts are still using the service."
   ]
  },
  {
   "cell_type": "markdown",
   "id": "71fd730e",
   "metadata": {},
   "source": [
    "#### What's the insight into whether there is a relationship between monthly charges, total charges, and tenure on churn rate?"
   ]
  },
  {
   "cell_type": "markdown",
   "id": "6997ffaf",
   "metadata": {},
   "source": [
    "* #### MonthlyCharges"
   ]
  },
  {
   "cell_type": "code",
   "execution_count": 34,
   "id": "e0663143",
   "metadata": {
    "scrolled": false
   },
   "outputs": [
    {
     "name": "stdout",
     "output_type": "stream",
     "text": [
      "total 456116.6 \n",
      "churn 139130.85 \n",
      "Churn % 31 \n",
      "Non-Churn 316985.75 \n",
      "Non-Churn % 69\n",
      "Churn\n",
      "No     61.265124\n",
      "Yes    74.441332\n",
      "Name: MonthlyCharges, dtype: float64 \n",
      "\n"
     ]
    },
    {
     "data": {
      "image/png": "[encoded data removed]",
      "text/plain": [
       "<Figure size 432x288 with 1 Axes>"
      ]
     },
     "metadata": {
      "needs_background": "light"
     },
     "output_type": "display_data"
    }
   ],
   "source": [
    "# Description Percent\n",
    "total = df[\"MonthlyCharges\"].sum()\n",
    "\n",
    "total_churn = df.MonthlyCharges[(df[\"Churn\"] == 'Yes')].sum()\n",
    "percent_churn = round(total_churn*100/total)\n",
    "\n",
    "total_nonchurn = df.MonthlyCharges[(df[\"Churn\"] == 'No')].sum()\n",
    "percent_nonchurn = round(total_nonchurn*100/total)\n",
    "\n",
    "print(\"total\",total, \n",
    "      \"\\nchurn\",total_churn, \n",
    "      \"\\nChurn %\",percent_churn, \n",
    "      \"\\nNon-Churn\",total_nonchurn, \n",
    "      \"\\nNon-Churn %\",percent_nonchurn)\n",
    "\n",
    "# Chart\n",
    "Mth = sns.kdeplot(df.MonthlyCharges[(df[\"Churn\"] == 'No') ],\n",
    "                color=\"Red\", shade = True)\n",
    "Mth = sns.kdeplot(df.MonthlyCharges[(df[\"Churn\"] == 'Yes') ],\n",
    "                ax =Mth, color=\"Blue\", shade= True)\n",
    "Mth.legend([\"No Churn\",\"Churn\"],loc='upper right')\n",
    "Mth.set_ylabel('Density')\n",
    "Mth.set_xlabel('Monthly Charges')\n",
    "Mth.set_title('Monthly Charges by churn')\n",
    "print(df.groupby(by=['Churn'])['MonthlyCharges'].mean().sort_values(), '\\n')\n"
   ]
  },
  {
   "cell_type": "markdown",
   "id": "767688f3",
   "metadata": {},
   "source": [
    "- **Customers who are charged high monthly fees are more likely to stop using the service than customers who are charged lower monthly fees**.\n",
    "\n",
    "- About 69% of customers who are charged high monthly fees are still using the service, while about 31% of customers who are charged high monthly fees have stopped using the service.\n",
    "\n",
    "- The average monthly fee for customers who are charged high monthly fees is \\\\$74.4, while the average monthly fee for customers who are charged low monthly fees is \\\\$61.2."
   ]
  },
  {
   "cell_type": "markdown",
   "id": "e5d4cada",
   "metadata": {},
   "source": [
    "* #### TotalCharges"
   ]
  },
  {
   "cell_type": "code",
   "execution_count": 35,
   "id": "2e6cd7bc",
   "metadata": {
    "scrolled": false
   },
   "outputs": [
    {
     "name": "stdout",
     "output_type": "stream",
     "text": [
      "total 16071540.924999999 \n",
      "churn 2862926.9 \n",
      "Churn % 18 \n",
      "Non-Churn 13208614.025 \n",
      "Non-Churn % 82\n"
     ]
    },
    {
     "data": {
      "text/plain": [
       "Text(0.5, 1.0, 'Total Charges by churn')"
      ]
     },
     "execution_count": 35,
     "metadata": {},
     "output_type": "execute_result"
    },
    {
     "data": {
      "image/png": "[encoded data removed]",
      "text/plain": [
       "<Figure size 432x288 with 1 Axes>"
      ]
     },
     "metadata": {
      "needs_background": "light"
     },
     "output_type": "display_data"
    }
   ],
   "source": [
    "# Description Percent\n",
    "total = df[\"TotalCharges\"].sum()\n",
    "\n",
    "total_churn = df.TotalCharges[(df[\"Churn\"] == 'Yes')].sum()\n",
    "percent_churn = round(total_churn*100/total)\n",
    "\n",
    "total_nonchurn = df.TotalCharges[(df[\"Churn\"] == 'No')].sum()\n",
    "percent_nonchurn = round(total_nonchurn*100/total)\n",
    "\n",
    "print(\"total\",total, \n",
    "      \"\\nchurn\",total_churn, \n",
    "      \"\\nChurn %\",percent_churn, \n",
    "      \"\\nNon-Churn\",total_nonchurn, \n",
    "      \"\\nNon-Churn %\",percent_nonchurn)\n",
    "\n",
    "# Chart\n",
    "Mth = sns.kdeplot(df.TotalCharges[(df[\"Churn\"] == 'No') ],\n",
    "                color=\"Red\", shade = True)\n",
    "Mth = sns.kdeplot(df.TotalCharges[(df[\"Churn\"] == 'Yes') ],\n",
    "                ax =Mth, color=\"Blue\", shade= True)\n",
    "Mth.legend([\"No Churn\",\"Churn\"],loc='upper right')\n",
    "Mth.set_ylabel('Density')\n",
    "Mth.set_xlabel('Total Charges')\n",
    "Mth.set_title('Total Charges by churn')\n",
    "print(df.groupby(by=['Churn'])['TotalCharges'].mean().sort_values(), '\\n')\n"
   ]
  },
  {
   "cell_type": "markdown",
   "id": "ba9ecfa2",
   "metadata": {},
   "source": [
    "- **Customers who are charged higher total fees are more likely to stop using the service than customers who are charged lower total fees**.\n",
    "- About 82% of customers who are charged higher total fees are still using the service, while about 18% of customers who are charged higher total fees have stopped using the service.\n",
    "- The average total fee for customers who are charged higher total fees is \\\\$2552.9, while the average total fee for customers who are charged lower total fees is \\\\$1531.8."
   ]
  },
  {
   "cell_type": "markdown",
   "id": "2cebbab5",
   "metadata": {},
   "source": [
    "* #### Tenure"
   ]
  },
  {
   "cell_type": "code",
   "execution_count": 36,
   "id": "06d10d23",
   "metadata": {},
   "outputs": [
    {
     "name": "stdout",
     "output_type": "stream",
     "text": [
      "total 227990 \n",
      "churn 33603 \n",
      "Churn % 15 \n",
      "Non-Churn 194387 \n",
      "Non-Churn % 85\n"
     ]
    },
    {
     "data": {
      "text/plain": [
       "Text(0.5, 1.0, 'Tenure by churn')"
      ]
     },
     "execution_count": 36,
     "metadata": {},
     "output_type": "execute_result"
    },
    {
     "data": {
      "image/png": "[encoded data removed]",
      "text/plain": [
       "<Figure size 432x288 with 1 Axes>"
      ]
     },
     "metadata": {
      "needs_background": "light"
     },
     "output_type": "display_data"
    }
   ],
   "source": [
    "# Description Percent\n",
    "total = df[\"tenure\"].sum()\n",
    "\n",
    "total_churn = df.tenure[(df[\"Churn\"] == 'Yes')].sum()\n",
    "percent_churn = round(total_churn*100/total)\n",
    "\n",
    "total_nonchurn = df.tenure[(df[\"Churn\"] == 'No')].sum()\n",
    "percent_nonchurn = round(total_nonchurn*100/total)\n",
    "\n",
    "print(\"total\",total, \n",
    "      \"\\nchurn\",total_churn, \n",
    "      \"\\nChurn %\",percent_churn, \n",
    "      \"\\nNon-Churn\",total_nonchurn, \n",
    "      \"\\nNon-Churn %\",percent_nonchurn)\n",
    "\n",
    "# Chart\n",
    "Mth = sns.kdeplot(df.tenure[(df[\"Churn\"] == 'No') ],\n",
    "                color=\"Red\", shade = True)\n",
    "Mth = sns.kdeplot(df.tenure[(df[\"Churn\"] == 'Yes') ],\n",
    "                ax =Mth, color=\"Blue\", shade= True)\n",
    "Mth.legend([\"No Churn\",\"Churn\"],loc='upper right')\n",
    "Mth.set_ylabel('Density')\n",
    "Mth.set_xlabel('Tenure')\n",
    "Mth.set_title('Tenure by churn')\n",
    "\n",
    "print(df.groupby(by=['Churn'])['tenure'].mean().sort_values(), '\\n')\n"
   ]
  },
  {
   "cell_type": "markdown",
   "id": "6871a6e1",
   "metadata": {},
   "source": [
    "- **Customers who have been with the company for a shorter period of time are more likely to stop using the service than customers who have been with the company for a longer period of time**.\n",
    "- About 85% of customers who have been with the company for a shorter period of time are still using the service, while about 15% of customers who have been with the company for a shorter period of time have stopped using the service.\n",
    "- The average tenure for customers who have been with the company for a shorter period of time is 17 months, while the average tenure for customers who have been with the company for a longer period of time is 37 months."
   ]
  },
  {
   "cell_type": "markdown",
   "id": "c7a9a281",
   "metadata": {},
   "source": [
    "We can conclude that higher Monthly Charge at lower tenure results into lower Total Charge. Hence, higher Monthly Charge, lower tenure, and lower Total Charge are linked to High Churn."
   ]
  },
  {
   "cell_type": "code",
   "execution_count": 37,
   "id": "collaborative-fancy",
   "metadata": {
    "execution": {
     "iopub.execute_input": "2021-12-20T06:38:54.055651Z",
     "iopub.status.busy": "2021-12-20T06:38:54.054986Z",
     "iopub.status.idle": "2021-12-20T06:38:54.065129Z",
     "shell.execute_reply": "2021-12-20T06:38:54.065849Z",
     "shell.execute_reply.started": "2021-12-20T05:49:36.356044Z"
    },
    "papermill": {
     "duration": 0.126836,
     "end_time": "2021-12-20T06:38:54.066096",
     "exception": false,
     "start_time": "2021-12-20T06:38:53.939260",
     "status": "completed"
    },
    "tags": []
   },
   "outputs": [
    {
     "name": "stdout",
     "output_type": "stream",
     "text": [
      "Churn\n",
      "Yes    17.979133\n",
      "No     37.569965\n",
      "Name: tenure, dtype: float64 \n",
      "\n",
      "Churn\n",
      "No     61.265124\n",
      "Yes    74.441332\n",
      "Name: MonthlyCharges, dtype: float64 \n",
      "\n",
      "Churn\n",
      "Yes    1531.796094\n",
      "No     2552.882494\n",
      "Name: TotalCharges, dtype: float64\n"
     ]
    }
   ],
   "source": [
    "print(df.groupby(by=['Churn'])['tenure'].mean().sort_values(), '\\n')\n",
    "print(df.groupby(by=['Churn'])['MonthlyCharges'].mean().sort_values(), '\\n')\n",
    "print(df.groupby(by=['Churn'])['TotalCharges'].mean().sort_values())"
   ]
  },
  {
   "cell_type": "markdown",
   "id": "cooked-jimmy",
   "metadata": {
    "papermill": {
     "duration": 0.112592,
     "end_time": "2021-12-20T06:38:54.288098",
     "exception": false,
     "start_time": "2021-12-20T06:38:54.175506",
     "status": "completed"
    },
    "tags": []
   },
   "source": [
    "As expected, the average tenure period for churned customers is lower and the average monthly charges are higher than the same metrics for retained customers. The average total charges are lower for churned customers, which is probably due to their lower tenure.\n",
    "\n",
    "The density plot for churned customers in the ‘tenure’ feature showed a high concentration in the first months."
   ]
  },
  {
   "cell_type": "markdown",
   "id": "76e787b7",
   "metadata": {},
   "source": [
    "* #### Correlation"
   ]
  },
  {
   "cell_type": "code",
   "execution_count": 38,
   "id": "6c9587af",
   "metadata": {},
   "outputs": [
    {
     "data": {
      "text/plain": [
       "<AxesSubplot:>"
      ]
     },
     "execution_count": 38,
     "metadata": {},
     "output_type": "execute_result"
    },
    {
     "data": {
      "image/png": "[encoded data removed]",
      "text/plain": [
       "<Figure size 432x288 with 2 Axes>"
      ]
     },
     "metadata": {
      "needs_background": "light"
     },
     "output_type": "display_data"
    }
   ],
   "source": [
    "plt.figure(figsize = (6,4))\n",
    "sns.heatmap(df.corr(), annot =True)"
   ]
  },
  {
   "cell_type": "markdown",
   "id": "7c5ced10",
   "metadata": {},
   "source": [
    "# Feature Engineering"
   ]
  },
  {
   "cell_type": "markdown",
   "id": "cc7a07c7",
   "metadata": {},
   "source": [
    "* #### One Hot Encoding and Map"
   ]
  },
  {
   "cell_type": "code",
   "execution_count": 39,
   "id": "d94412b8",
   "metadata": {},
   "outputs": [],
   "source": [
    "data = df.select_dtypes(include=['object']).columns.to_list()\n",
    "for i in data:\n",
    "    if i == 'Contract':\n",
    "        df[i] = df[i].map({'Month-to-month':0,'One year':1,'Two year':2})\n",
    "    elif i == 'Churn' :\n",
    "        df[i] = df[i].map({'No':0,'Yes':1})\n",
    "    elif i == 'customerID':\n",
    "        pass\n",
    "    else:\n",
    "        column_enc = pd.get_dummies(df[i], prefix=i, drop_first = False)\n",
    "        df = df.drop([i], axis = 1)\n",
    "        df = pd.concat([df, column_enc], axis = 1)"
   ]
  },
  {
   "cell_type": "code",
   "execution_count": 40,
   "id": "33195ca3",
   "metadata": {},
   "outputs": [
    {
     "data": {
      "text/plain": [
       "customerID                                 0\n",
       "tenure                                     0\n",
       "Contract                                   0\n",
       "MonthlyCharges                             0\n",
       "TotalCharges                               0\n",
       "Churn                                      0\n",
       "gender_Female                              0\n",
       "gender_Male                                0\n",
       "gender_Unknown                             0\n",
       "SeniorCitizen_No                           0\n",
       "SeniorCitizen_Unknown                      0\n",
       "SeniorCitizen_Yes                          0\n",
       "Partner_No                                 0\n",
       "Partner_Unknown                            0\n",
       "Partner_Yes                                0\n",
       "Dependents_No                              0\n",
       "Dependents_Unknown                         0\n",
       "Dependents_Yes                             0\n",
       "PhoneService_No                            0\n",
       "PhoneService_Yes                           0\n",
       "MultipleLines_No                           0\n",
       "MultipleLines_No phone service             0\n",
       "MultipleLines_Unknown                      0\n",
       "MultipleLines_Yes                          0\n",
       "InternetService_DSL                        0\n",
       "InternetService_Fiber optic                0\n",
       "InternetService_No                         0\n",
       "InternetService_Unknown                    0\n",
       "OnlineSecurity_No                          0\n",
       "OnlineSecurity_No internet service         0\n",
       "OnlineSecurity_Unknown                     0\n",
       "OnlineSecurity_Yes                         0\n",
       "OnlineBackup_No                            0\n",
       "OnlineBackup_No internet service           0\n",
       "OnlineBackup_Unknown                       0\n",
       "OnlineBackup_Yes                           0\n",
       "DeviceProtection_No                        0\n",
       "DeviceProtection_No internet service       0\n",
       "DeviceProtection_Unknown                   0\n",
       "DeviceProtection_Yes                       0\n",
       "TechSupport_No                             0\n",
       "TechSupport_No internet service            0\n",
       "TechSupport_Unknown                        0\n",
       "TechSupport_Yes                            0\n",
       "StreamingTV_No                             0\n",
       "StreamingTV_No internet service            0\n",
       "StreamingTV_Unknown                        0\n",
       "StreamingTV_Yes                            0\n",
       "StreamingMovies_No                         0\n",
       "StreamingMovies_No internet service        0\n",
       "StreamingMovies_Unknown                    0\n",
       "StreamingMovies_Yes                        0\n",
       "PaperlessBilling_No                        0\n",
       "PaperlessBilling_Yes                       0\n",
       "PaymentMethod_Bank transfer (automatic)    0\n",
       "PaymentMethod_Credit card (automatic)      0\n",
       "PaymentMethod_Electronic check             0\n",
       "PaymentMethod_Mailed check                 0\n",
       "dtype: int64"
      ]
     },
     "execution_count": 40,
     "metadata": {},
     "output_type": "execute_result"
    }
   ],
   "source": [
    "df.isna().sum()"
   ]
  },
  {
   "cell_type": "markdown",
   "id": "1af80491",
   "metadata": {},
   "source": [
    "* #### Scaler"
   ]
  },
  {
   "cell_type": "code",
   "execution_count": 41,
   "id": "71c514fe",
   "metadata": {},
   "outputs": [
    {
     "data": {
      "text/plain": [
       "<AxesSubplot:xlabel='MonthlyCharges', ylabel='Density'>"
      ]
     },
     "execution_count": 41,
     "metadata": {},
     "output_type": "execute_result"
    },
    {
     "data": {
      "image/png": "[encoded data removed]",
      "text/plain": [
       "<Figure size 432x288 with 1 Axes>"
      ]
     },
     "metadata": {
      "needs_background": "light"
     },
     "output_type": "display_data"
    }
   ],
   "source": [
    "sns.distplot(df['MonthlyCharges']) "
   ]
  },
  {
   "cell_type": "code",
   "execution_count": 42,
   "id": "341fe799",
   "metadata": {},
   "outputs": [
    {
     "data": {
      "text/plain": [
       "<AxesSubplot:xlabel='tenure', ylabel='Density'>"
      ]
     },
     "execution_count": 42,
     "metadata": {},
     "output_type": "execute_result"
    },
    {
     "data": {
      "image/png": "[encoded data removed]",
      "text/plain": [
       "<Figure size 432x288 with 1 Axes>"
      ]
     },
     "metadata": {
      "needs_background": "light"
     },
     "output_type": "display_data"
    }
   ],
   "source": [
    "sns.distplot(df['tenure'])"
   ]
  },
  {
   "cell_type": "code",
   "execution_count": 43,
   "id": "3b5300ce",
   "metadata": {},
   "outputs": [],
   "source": [
    "scaler = StandardScaler()"
   ]
  },
  {
   "cell_type": "code",
   "execution_count": 44,
   "id": "24dc9b65",
   "metadata": {},
   "outputs": [],
   "source": [
    "df[['tenure']] = scaler.fit_transform(df[['tenure']])\n",
    "df[['MonthlyCharges']] = scaler.fit_transform(df[['MonthlyCharges']])"
   ]
  },
  {
   "cell_type": "code",
   "execution_count": 45,
   "id": "e832f398",
   "metadata": {
    "scrolled": true
   },
   "outputs": [
    {
     "data": {
      "text/html": [
       "<div>\n",
       "<style scoped>\n",
       "    .dataframe tbody tr th:only-of-type {\n",
       "        vertical-align: middle;\n",
       "    }\n",
       "\n",
       "    .dataframe tbody tr th {\n",
       "        vertical-align: top;\n",
       "    }\n",
       "\n",
       "    .dataframe thead th {\n",
       "        text-align: right;\n",
       "    }\n",
       "</style>\n",
       "<table border=\"1\" class=\"dataframe\">\n",
       "  <thead>\n",
       "    <tr style=\"text-align: right;\">\n",
       "      <th></th>\n",
       "      <th>customerID</th>\n",
       "      <th>tenure</th>\n",
       "      <th>Contract</th>\n",
       "      <th>MonthlyCharges</th>\n",
       "      <th>TotalCharges</th>\n",
       "      <th>Churn</th>\n",
       "      <th>gender_Female</th>\n",
       "      <th>gender_Male</th>\n",
       "      <th>gender_Unknown</th>\n",
       "      <th>SeniorCitizen_No</th>\n",
       "      <th>...</th>\n",
       "      <th>StreamingMovies_No</th>\n",
       "      <th>StreamingMovies_No internet service</th>\n",
       "      <th>StreamingMovies_Unknown</th>\n",
       "      <th>StreamingMovies_Yes</th>\n",
       "      <th>PaperlessBilling_No</th>\n",
       "      <th>PaperlessBilling_Yes</th>\n",
       "      <th>PaymentMethod_Bank transfer (automatic)</th>\n",
       "      <th>PaymentMethod_Credit card (automatic)</th>\n",
       "      <th>PaymentMethod_Electronic check</th>\n",
       "      <th>PaymentMethod_Mailed check</th>\n",
       "    </tr>\n",
       "  </thead>\n",
       "  <tbody>\n",
       "    <tr>\n",
       "      <th>0</th>\n",
       "      <td>7590-VHVEG</td>\n",
       "      <td>-1.277445</td>\n",
       "      <td>0</td>\n",
       "      <td>-1.160323</td>\n",
       "      <td>29.85</td>\n",
       "      <td>0</td>\n",
       "      <td>0</td>\n",
       "      <td>0</td>\n",
       "      <td>1</td>\n",
       "      <td>0</td>\n",
       "      <td>...</td>\n",
       "      <td>0</td>\n",
       "      <td>0</td>\n",
       "      <td>1</td>\n",
       "      <td>0</td>\n",
       "      <td>0</td>\n",
       "      <td>1</td>\n",
       "      <td>0</td>\n",
       "      <td>0</td>\n",
       "      <td>1</td>\n",
       "      <td>0</td>\n",
       "    </tr>\n",
       "    <tr>\n",
       "      <th>1</th>\n",
       "      <td>5575-GNVDE</td>\n",
       "      <td>0.066327</td>\n",
       "      <td>1</td>\n",
       "      <td>-0.259629</td>\n",
       "      <td>1889.50</td>\n",
       "      <td>0</td>\n",
       "      <td>0</td>\n",
       "      <td>0</td>\n",
       "      <td>1</td>\n",
       "      <td>0</td>\n",
       "      <td>...</td>\n",
       "      <td>0</td>\n",
       "      <td>0</td>\n",
       "      <td>1</td>\n",
       "      <td>0</td>\n",
       "      <td>1</td>\n",
       "      <td>0</td>\n",
       "      <td>0</td>\n",
       "      <td>0</td>\n",
       "      <td>0</td>\n",
       "      <td>1</td>\n",
       "    </tr>\n",
       "    <tr>\n",
       "      <th>2</th>\n",
       "      <td>3668-QPYBK</td>\n",
       "      <td>-1.236724</td>\n",
       "      <td>0</td>\n",
       "      <td>-0.362660</td>\n",
       "      <td>108.15</td>\n",
       "      <td>1</td>\n",
       "      <td>0</td>\n",
       "      <td>0</td>\n",
       "      <td>1</td>\n",
       "      <td>0</td>\n",
       "      <td>...</td>\n",
       "      <td>0</td>\n",
       "      <td>0</td>\n",
       "      <td>1</td>\n",
       "      <td>0</td>\n",
       "      <td>0</td>\n",
       "      <td>1</td>\n",
       "      <td>0</td>\n",
       "      <td>0</td>\n",
       "      <td>0</td>\n",
       "      <td>1</td>\n",
       "    </tr>\n",
       "    <tr>\n",
       "      <th>3</th>\n",
       "      <td>7795-CFOCW</td>\n",
       "      <td>0.514251</td>\n",
       "      <td>1</td>\n",
       "      <td>-0.746535</td>\n",
       "      <td>1840.75</td>\n",
       "      <td>0</td>\n",
       "      <td>0</td>\n",
       "      <td>0</td>\n",
       "      <td>1</td>\n",
       "      <td>0</td>\n",
       "      <td>...</td>\n",
       "      <td>0</td>\n",
       "      <td>0</td>\n",
       "      <td>1</td>\n",
       "      <td>0</td>\n",
       "      <td>1</td>\n",
       "      <td>0</td>\n",
       "      <td>1</td>\n",
       "      <td>0</td>\n",
       "      <td>0</td>\n",
       "      <td>0</td>\n",
       "    </tr>\n",
       "    <tr>\n",
       "      <th>4</th>\n",
       "      <td>9237-HQITU</td>\n",
       "      <td>-1.236724</td>\n",
       "      <td>0</td>\n",
       "      <td>0.197365</td>\n",
       "      <td>151.65</td>\n",
       "      <td>1</td>\n",
       "      <td>0</td>\n",
       "      <td>0</td>\n",
       "      <td>1</td>\n",
       "      <td>0</td>\n",
       "      <td>...</td>\n",
       "      <td>0</td>\n",
       "      <td>0</td>\n",
       "      <td>1</td>\n",
       "      <td>0</td>\n",
       "      <td>0</td>\n",
       "      <td>1</td>\n",
       "      <td>0</td>\n",
       "      <td>0</td>\n",
       "      <td>1</td>\n",
       "      <td>0</td>\n",
       "    </tr>\n",
       "  </tbody>\n",
       "</table>\n",
       "<p>5 rows × 58 columns</p>\n",
       "</div>"
      ],
      "text/plain": [
       "   customerID    tenure  Contract  MonthlyCharges  TotalCharges  Churn  \\\n",
       "0  7590-VHVEG -1.277445         0       -1.160323         29.85      0   \n",
       "1  5575-GNVDE  0.066327         1       -0.259629       1889.50      0   \n",
       "2  3668-QPYBK -1.236724         0       -0.362660        108.15      1   \n",
       "3  7795-CFOCW  0.514251         1       -0.746535       1840.75      0   \n",
       "4  9237-HQITU -1.236724         0        0.197365        151.65      1   \n",
       "\n",
       "   gender_Female  gender_Male  gender_Unknown  SeniorCitizen_No  ...  \\\n",
       "0              0            0               1                 0  ...   \n",
       "1              0            0               1                 0  ...   \n",
       "2              0            0               1                 0  ...   \n",
       "3              0            0               1                 0  ...   \n",
       "4              0            0               1                 0  ...   \n",
       "\n",
       "   StreamingMovies_No  StreamingMovies_No internet service  \\\n",
       "0                   0                                    0   \n",
       "1                   0                                    0   \n",
       "2                   0                                    0   \n",
       "3                   0                                    0   \n",
       "4                   0                                    0   \n",
       "\n",
       "   StreamingMovies_Unknown  StreamingMovies_Yes  PaperlessBilling_No  \\\n",
       "0                        1                    0                    0   \n",
       "1                        1                    0                    1   \n",
       "2                        1                    0                    0   \n",
       "3                        1                    0                    1   \n",
       "4                        1                    0                    0   \n",
       "\n",
       "   PaperlessBilling_Yes  PaymentMethod_Bank transfer (automatic)  \\\n",
       "0                     1                                        0   \n",
       "1                     0                                        0   \n",
       "2                     1                                        0   \n",
       "3                     0                                        1   \n",
       "4                     1                                        0   \n",
       "\n",
       "   PaymentMethod_Credit card (automatic)  PaymentMethod_Electronic check  \\\n",
       "0                                      0                               1   \n",
       "1                                      0                               0   \n",
       "2                                      0                               0   \n",
       "3                                      0                               0   \n",
       "4                                      0                               1   \n",
       "\n",
       "   PaymentMethod_Mailed check  \n",
       "0                           0  \n",
       "1                           1  \n",
       "2                           1  \n",
       "3                           0  \n",
       "4                           0  \n",
       "\n",
       "[5 rows x 58 columns]"
      ]
     },
     "execution_count": 45,
     "metadata": {},
     "output_type": "execute_result"
    }
   ],
   "source": [
    "df.head()"
   ]
  },
  {
   "cell_type": "markdown",
   "id": "05edf4e8",
   "metadata": {},
   "source": [
    "# Preprocessing Modeling"
   ]
  },
  {
   "cell_type": "markdown",
   "id": "03f382bc",
   "metadata": {},
   "source": [
    "* Feature Selection"
   ]
  },
  {
   "cell_type": "code",
   "execution_count": 46,
   "id": "cf479d2a",
   "metadata": {},
   "outputs": [],
   "source": [
    "df.drop('customerID', axis=1, inplace=True) # Identifier\n",
    "df.drop('TotalCharges', axis=1, inplace=True) # Multicollinear"
   ]
  },
  {
   "cell_type": "markdown",
   "id": "c8388644",
   "metadata": {},
   "source": [
    "* Feature Importance"
   ]
  },
  {
   "cell_type": "code",
   "execution_count": 47,
   "id": "1a0ad698",
   "metadata": {},
   "outputs": [],
   "source": [
    "X = df.drop(['Churn'], axis =1)\n",
    "y = df['Churn']"
   ]
  },
  {
   "cell_type": "code",
   "execution_count": 48,
   "id": "3766cae3",
   "metadata": {},
   "outputs": [],
   "source": [
    "model = ExtraTreesClassifier()"
   ]
  },
  {
   "cell_type": "code",
   "execution_count": 49,
   "id": "aa6ca385",
   "metadata": {},
   "outputs": [
    {
     "data": {
      "image/png": "[encoded data removed]",
      "text/plain": [
       "<Figure size 432x288 with 1 Axes>"
      ]
     },
     "metadata": {
      "needs_background": "light"
     },
     "output_type": "display_data"
    }
   ],
   "source": [
    "model.fit(X,y)\n",
    "\n",
    "feat_importances = pd.Series(model.feature_importances_, index=X.columns)\n",
    "feat_importances.nlargest(23).plot(kind='barh')\n",
    "plt.show()\n"
   ]
  },
  {
   "cell_type": "code",
   "execution_count": 50,
   "id": "5cd614e5",
   "metadata": {},
   "outputs": [],
   "source": [
    "X_train, X_test, y_train, y_test = train_test_split(X,y, train_size=0.8, random_state=42)"
   ]
  },
  {
   "cell_type": "markdown",
   "id": "bb9b8436",
   "metadata": {},
   "source": [
    "# Modeling\n",
    "### Machine Learning Classification | Logistic Regression"
   ]
  },
  {
   "cell_type": "code",
   "execution_count": 51,
   "id": "217190ab",
   "metadata": {},
   "outputs": [],
   "source": [
    "model = LogisticRegression()"
   ]
  },
  {
   "cell_type": "code",
   "execution_count": 52,
   "id": "d78ee421",
   "metadata": {},
   "outputs": [
    {
     "data": {
      "text/html": [
       "<style>#sk-container-id-1 {color: black;background-color: white;}#sk-container-id-1 pre{padding: 0;}#sk-container-id-1 div.sk-toggleable {background-color: white;}#sk-container-id-1 label.sk-toggleable__label {cursor: pointer;display: block;width: 100%;margin-bottom: 0;padding: 0.3em;box-sizing: border-box;text-align: center;}#sk-container-id-1 label.sk-toggleable__label-arrow:before {content: \"▸\";float: left;margin-right: 0.25em;color: #696969;}#sk-container-id-1 label.sk-toggleable__label-arrow:hover:before {color: black;}#sk-container-id-1 div.sk-estimator:hover label.sk-toggleable__label-arrow:before {color: black;}#sk-container-id-1 div.sk-toggleable__content {max-height: 0;max-width: 0;overflow: hidden;text-align: left;background-color: #f0f8ff;}#sk-container-id-1 div.sk-toggleable__content pre {margin: 0.2em;color: black;border-radius: 0.25em;background-color: #f0f8ff;}#sk-container-id-1 input.sk-toggleable__control:checked~div.sk-toggleable__content {max-height: 200px;max-width: 100%;overflow: auto;}#sk-container-id-1 input.sk-toggleable__control:checked~label.sk-toggleable__label-arrow:before {content: \"▾\";}#sk-container-id-1 div.sk-estimator input.sk-toggleable__control:checked~label.sk-toggleable__label {background-color: #d4ebff;}#sk-container-id-1 div.sk-label input.sk-toggleable__control:checked~label.sk-toggleable__label {background-color: #d4ebff;}#sk-container-id-1 input.sk-hidden--visually {border: 0;clip: rect(1px 1px 1px 1px);clip: rect(1px, 1px, 1px, 1px);height: 1px;margin: -1px;overflow: hidden;padding: 0;position: absolute;width: 1px;}#sk-container-id-1 div.sk-estimator {font-family: monospace;background-color: #f0f8ff;border: 1px dotted black;border-radius: 0.25em;box-sizing: border-box;margin-bottom: 0.5em;}#sk-container-id-1 div.sk-estimator:hover {background-color: #d4ebff;}#sk-container-id-1 div.sk-parallel-item::after {content: \"\";width: 100%;border-bottom: 1px solid gray;flex-grow: 1;}#sk-container-id-1 div.sk-label:hover label.sk-toggleable__label {background-color: #d4ebff;}#sk-container-id-1 div.sk-serial::before {content: \"\";position: absolute;border-left: 1px solid gray;box-sizing: border-box;top: 0;bottom: 0;left: 50%;z-index: 0;}#sk-container-id-1 div.sk-serial {display: flex;flex-direction: column;align-items: center;background-color: white;padding-right: 0.2em;padding-left: 0.2em;position: relative;}#sk-container-id-1 div.sk-item {position: relative;z-index: 1;}#sk-container-id-1 div.sk-parallel {display: flex;align-items: stretch;justify-content: center;background-color: white;position: relative;}#sk-container-id-1 div.sk-item::before, #sk-container-id-1 div.sk-parallel-item::before {content: \"\";position: absolute;border-left: 1px solid gray;box-sizing: border-box;top: 0;bottom: 0;left: 50%;z-index: -1;}#sk-container-id-1 div.sk-parallel-item {display: flex;flex-direction: column;z-index: 1;position: relative;background-color: white;}#sk-container-id-1 div.sk-parallel-item:first-child::after {align-self: flex-end;width: 50%;}#sk-container-id-1 div.sk-parallel-item:last-child::after {align-self: flex-start;width: 50%;}#sk-container-id-1 div.sk-parallel-item:only-child::after {width: 0;}#sk-container-id-1 div.sk-dashed-wrapped {border: 1px dashed gray;margin: 0 0.4em 0.5em 0.4em;box-sizing: border-box;padding-bottom: 0.4em;background-color: white;}#sk-container-id-1 div.sk-label label {font-family: monospace;font-weight: bold;display: inline-block;line-height: 1.2em;}#sk-container-id-1 div.sk-label-container {text-align: center;}#sk-container-id-1 div.sk-container {/* jupyter's `normalize.less` sets `[hidden] { display: none; }` but bootstrap.min.css set `[hidden] { display: none !important; }` so we also need the `!important` here to be able to override the default hidden behavior on the sphinx rendered scikit-learn.org. See: https://github.com/scikit-learn/scikit-learn/issues/21755 */display: inline-block !important;position: relative;}#sk-container-id-1 div.sk-text-repr-fallback {display: none;}</style><div id=\"sk-container-id-1\" class=\"sk-top-container\"><div class=\"sk-text-repr-fallback\"><pre>LogisticRegression()</pre><b>In a Jupyter environment, please rerun this cell to show the HTML representation or trust the notebook. <br />On GitHub, the HTML representation is unable to render, please try loading this page with nbviewer.org.</b></div><div class=\"sk-container\" hidden><div class=\"sk-item\"><div class=\"sk-estimator sk-toggleable\"><input class=\"sk-toggleable__control sk-hidden--visually\" id=\"sk-estimator-id-1\" type=\"checkbox\" checked><label for=\"sk-estimator-id-1\" class=\"sk-toggleable__label sk-toggleable__label-arrow\">LogisticRegression</label><div class=\"sk-toggleable__content\"><pre>LogisticRegression()</pre></div></div></div></div></div>"
      ],
      "text/plain": [
       "LogisticRegression()"
      ]
     },
     "execution_count": 52,
     "metadata": {},
     "output_type": "execute_result"
    }
   ],
   "source": [
    "model.fit(X_train,y_train)"
   ]
  },
  {
   "cell_type": "code",
   "execution_count": 53,
   "id": "d5c4a8b2",
   "metadata": {},
   "outputs": [],
   "source": [
    "y_pred = model.predict(X_test)"
   ]
  },
  {
   "cell_type": "markdown",
   "id": "a227e816",
   "metadata": {},
   "source": [
    "# Evaluate Model"
   ]
  },
  {
   "cell_type": "code",
   "execution_count": 54,
   "id": "304de7b3",
   "metadata": {},
   "outputs": [
    {
     "name": "stdout",
     "output_type": "stream",
     "text": [
      "              precision    recall  f1-score   support\n",
      "\n",
      "   not churn       0.86      0.91      0.88      1036\n",
      "       churn       0.70      0.59      0.64       373\n",
      "\n",
      "    accuracy                           0.82      1409\n",
      "   macro avg       0.78      0.75      0.76      1409\n",
      "weighted avg       0.82      0.82      0.82      1409\n",
      "\n"
     ]
    },
    {
     "data": {
      "image/png": "[encoded data removed]",
      "text/plain": [
       "<Figure size 576x360 with 2 Axes>"
      ]
     },
     "metadata": {
      "needs_background": "light"
     },
     "output_type": "display_data"
    }
   ],
   "source": [
    "cm_model = confusion_matrix(y_test, y_pred)\n",
    "\n",
    "labels=[\"not churn\", \"churn\"]\n",
    "\n",
    "print(classification_report(y_test, y_pred, target_names = labels))\n",
    "f, ax = plt.subplots(figsize=(8,5))\n",
    "sns.heatmap(cm_model, annot=True, fmt=\".0f\", ax=ax, cmap = 'Blues')\n",
    "\n",
    "ax.xaxis.set_ticklabels(labels)\n",
    "ax.yaxis.set_ticklabels(labels)\n",
    "\n",
    "plt.title('Logistic Regression TRAIN 80%')\n",
    "plt.xlabel('PREDICTED')\n",
    "plt.ylabel('ACTUAL')\n",
    "plt.show()"
   ]
  },
  {
   "cell_type": "markdown",
   "id": "d6d466c7",
   "metadata": {},
   "source": [
    "* #### Overfit and Underfit"
   ]
  },
  {
   "cell_type": "code",
   "execution_count": 55,
   "id": "a0ef9db2",
   "metadata": {},
   "outputs": [],
   "source": [
    "y_pred_train = model.predict(X_train)\n",
    "y_pred_test = model.predict(X_test)"
   ]
  },
  {
   "cell_type": "code",
   "execution_count": 56,
   "id": "9e5511a0",
   "metadata": {},
   "outputs": [
    {
     "name": "stdout",
     "output_type": "stream",
     "text": [
      "0.7992545260915868\n"
     ]
    }
   ],
   "source": [
    "print(accuracy_score(y_train,y_pred_train))"
   ]
  },
  {
   "cell_type": "code",
   "execution_count": 57,
   "id": "837bfc67",
   "metadata": {},
   "outputs": [
    {
     "name": "stdout",
     "output_type": "stream",
     "text": [
      "0.8232789212207239\n"
     ]
    }
   ],
   "source": [
    "print(accuracy_score(y_test,y_pred_test))"
   ]
  },
  {
   "cell_type": "markdown",
   "id": "29140d53",
   "metadata": {},
   "source": [
    "The model is not overfit."
   ]
  },
  {
   "cell_type": "markdown",
   "id": "284f80b5",
   "metadata": {},
   "source": [
    "* #### AUC/ROC"
   ]
  },
  {
   "cell_type": "code",
   "execution_count": 58,
   "id": "2cb1b5cd",
   "metadata": {},
   "outputs": [],
   "source": [
    "y_pred_train = model.predict(X_train)\n",
    "y_pred_test = model.predict(X_test)\n",
    "y_proba_train = model.predict_proba(X_train)[:,1]\n",
    "y_proba_test = model.predict_proba(X_test)[:,1]\n",
    "cm_train = confusion_matrix(y_train,y_pred_train)\n",
    "cm_test = confusion_matrix(y_test,y_pred_test)"
   ]
  },
  {
   "cell_type": "code",
   "execution_count": 59,
   "id": "b22e0775",
   "metadata": {},
   "outputs": [],
   "source": [
    "fpr_train, tpr_train, threshold_train = roc_curve(y_train, y_proba_train)\n",
    "roc_auc_train = auc(fpr_train, tpr_train)\n",
    "fpr_test, tpr_test, threshold_test = roc_curve(y_test, y_proba_test)\n",
    "roc_auc_test = auc(fpr_test, tpr_test)"
   ]
  },
  {
   "cell_type": "code",
   "execution_count": 60,
   "id": "bc648d27",
   "metadata": {},
   "outputs": [],
   "source": [
    "# True Positive\n",
    "tp_train, tp_test = cm_train[1][1], cm_test[1][1]\n",
    "# True Negative\n",
    "tn_train, tn_test = cm_train[0][0], cm_test[0][0]\n",
    "# False Positive\n",
    "fp_train, fp_test = cm_train[1][0], cm_test[1][0]\n",
    "# False Negative\n",
    "fn_train, fn_test = cm_train[0][1], cm_test[0][1]"
   ]
  },
  {
   "cell_type": "code",
   "execution_count": 61,
   "id": "8ddc6068",
   "metadata": {},
   "outputs": [],
   "source": [
    "# Overall, how often is the classifier correct?\n",
    "accuracy_train, accuracy_test = ((tp_train + tn_train) / (tp_train + tn_train + fp_train + fn_train)), (\n",
    "            (tp_test + tn_test) / (tp_test + tn_test + fp_test + fn_test))\n",
    "# When it's actually yes, how often does it predict yes?\n",
    "recall_train, recall_test = (tp_train / (tp_train + fp_train)), (tp_test / (tp_test + fp_test))\n",
    "# When it's actually no, how often does it predict no?\n",
    "specificity_train, specificity_test = (tn_train / (tn_train + fn_train)), (tn_test / (tn_test + fn_test))\n",
    "# When it predicts yes, how often is it correct?\n",
    "precision_train, precision_test = (tp_train / (tp_train + fn_train)), (tp_test / (tp_test + fn_test))\n",
    "# F1 Score\n",
    "f1_score_train, f1_score_test = (2 * (precision_train * recall_train) / (precision_train + recall_train)), (\n",
    "            2 * (precision_test * recall_test) / (precision_test + recall_test))"
   ]
  },
  {
   "cell_type": "code",
   "execution_count": 62,
   "id": "2ac2ed4a",
   "metadata": {},
   "outputs": [
    {
     "name": "stdout",
     "output_type": "stream",
     "text": [
      "\n",
      "Train Confusion Matrix\n",
      "[[3710  428]\n",
      " [ 703  793]]\n",
      "Test Confusion Matrix\n",
      "[[940  96]\n",
      " [153 220]]\n",
      "\n",
      "Area Under Curve\n",
      "AUC train & test        : 83.96% & 86.09%\n",
      "\n",
      "Confusion Matrix Evaluation\n",
      "Accuracy train & test   : 79.93% & 82.33%\n",
      "Recall train & test     : 53.01% & 58.98%\n",
      "Specificity train & test: 89.66% & 90.73%\n",
      "Precision train & test  : 64.95% & 69.62%\n",
      "F1 Score train & test   : 58.37% & 63.86%\n",
      "Log Loss train & test   : 6.9336 & 6.1038\n"
     ]
    }
   ],
   "source": [
    "# Print all the evaluation metrics\n",
    "print('\\nTrain Confusion Matrix')\n",
    "print(cm_train)\n",
    "print('Test Confusion Matrix')\n",
    "print(cm_test)\n",
    "print('\\nArea Under Curve')\n",
    "print('AUC train & test        : %.2f%%' % (roc_auc_train * 100), '&', '%.2f%%' % (roc_auc_test * 100))\n",
    "print('\\nConfusion Matrix Evaluation')\n",
    "print('Accuracy train & test   : %.2f%%' % (accuracy_train * 100), '&', '%.2f%%' % (accuracy_test * 100))\n",
    "print('Recall train & test     : %.2f%%' % (recall_train * 100), '&', '%.2f%%' % (recall_test * 100))\n",
    "print('Specificity train & test: %.2f%%' % (specificity_train * 100), '&', '%.2f%%' % (specificity_test * 100))\n",
    "print('Precision train & test  : %.2f%%' % (precision_train * 100), '&', '%.2f%%' % (precision_test * 100))\n",
    "print('F1 Score train & test   : %.2f%%' % (f1_score_train * 100), '&', '%.2f%%' % (f1_score_test * 100))\n",
    "print('Log Loss train & test   :', round(log_loss(y_train, y_pred_train), 4), '&',\n",
    "          round(log_loss(y_test, y_pred_test), 4))"
   ]
  },
  {
   "cell_type": "code",
   "execution_count": 63,
   "id": "12f1cf84",
   "metadata": {},
   "outputs": [
    {
     "data": {
      "image/png": "[encoded data removed]",
      "text/plain": [
       "<Figure size 504x432 with 1 Axes>"
      ]
     },
     "metadata": {
      "needs_background": "light"
     },
     "output_type": "display_data"
    }
   ],
   "source": [
    "#create plot of ROC_AUC\n",
    "plt.figure(figsize=(7, 6))\n",
    "plt.title('Receiver Operating Characteristic')\n",
    "plt.plot(fpr_train, tpr_train, 'b', label='Train = %0.2f' % roc_auc_train)\n",
    "plt.plot(fpr_test, tpr_test, 'g', label='Test  = %0.2f' % roc_auc_test)\n",
    "plt.legend(loc='lower right')\n",
    "plt.plot([0, 1], [0, 1], 'r--')\n",
    "plt.xlim([-0.05, 1.05])\n",
    "plt.ylim([-0.05, 1.05])\n",
    "plt.ylabel('True Positive Rate')\n",
    "plt.xlabel('False Positive Rate')\n",
    "plt.show()"
   ]
  },
  {
   "cell_type": "markdown",
   "id": "8f2017a6",
   "metadata": {},
   "source": [
    "* #### Building Model with cross validation"
   ]
  },
  {
   "cell_type": "code",
   "execution_count": 64,
   "id": "ad8365a7",
   "metadata": {},
   "outputs": [],
   "source": [
    "regressor = LogisticRegression()"
   ]
  },
  {
   "cell_type": "code",
   "execution_count": 65,
   "id": "21e18538",
   "metadata": {},
   "outputs": [
    {
     "data": {
      "text/plain": [
       "array([0.79605964, 0.79925453, 0.80031949])"
      ]
     },
     "execution_count": 65,
     "metadata": {},
     "output_type": "execute_result"
    }
   ],
   "source": [
    "scores = cross_val_score(regressor,X_train,y_train,scoring=\"accuracy\",cv=3)\n",
    "scores"
   ]
  },
  {
   "cell_type": "markdown",
   "id": "a7d6b82e",
   "metadata": {},
   "source": [
    "* #### Hyperparameter Tuning "
   ]
  },
  {
   "cell_type": "code",
   "execution_count": 66,
   "id": "68094672",
   "metadata": {},
   "outputs": [
    {
     "data": {
      "text/plain": [
       "{'C': 1.0,\n",
       " 'class_weight': None,\n",
       " 'dual': False,\n",
       " 'fit_intercept': True,\n",
       " 'intercept_scaling': 1,\n",
       " 'l1_ratio': None,\n",
       " 'max_iter': 100,\n",
       " 'multi_class': 'auto',\n",
       " 'n_jobs': None,\n",
       " 'penalty': 'l2',\n",
       " 'random_state': None,\n",
       " 'solver': 'lbfgs',\n",
       " 'tol': 0.0001,\n",
       " 'verbose': 0,\n",
       " 'warm_start': False}"
      ]
     },
     "execution_count": 66,
     "metadata": {},
     "output_type": "execute_result"
    }
   ],
   "source": [
    "regressor.get_params()"
   ]
  },
  {
   "cell_type": "code",
   "execution_count": 67,
   "id": "d87b3fda",
   "metadata": {},
   "outputs": [],
   "source": [
    "parameters = {\"penalty\": ['l1', 'l2', 'elasticnet', 'none'],\n",
    "              \"solver\": ['newton-cg', 'lbfgs', 'liblinear', 'sag', 'saga'],\n",
    "              \"n_jobs\": [None, -1],\n",
    "              \"max_iter\": [10, 100, 1000]\n",
    "             }"
   ]
  },
  {
   "cell_type": "code",
   "execution_count": 68,
   "id": "44d88d8a",
   "metadata": {},
   "outputs": [],
   "source": [
    "grid = GridSearchCV(estimator=regressor,param_grid=parameters,cv=3)"
   ]
  },
  {
   "cell_type": "code",
   "execution_count": 69,
   "id": "e549c4ea",
   "metadata": {},
   "outputs": [],
   "source": [
    "best_model = grid.fit(X_train,y_train)"
   ]
  },
  {
   "cell_type": "code",
   "execution_count": 70,
   "id": "c6703431",
   "metadata": {},
   "outputs": [
    {
     "data": {
      "text/plain": [
       "{'max_iter': 10, 'n_jobs': -1, 'penalty': 'l2', 'solver': 'sag'}"
      ]
     },
     "execution_count": 70,
     "metadata": {},
     "output_type": "execute_result"
    }
   ],
   "source": [
    "best_model.best_params_"
   ]
  },
  {
   "cell_type": "markdown",
   "id": "8822dae9",
   "metadata": {},
   "source": [
    "## Remodeling"
   ]
  },
  {
   "cell_type": "code",
   "execution_count": 71,
   "id": "5d596ab5",
   "metadata": {},
   "outputs": [],
   "source": [
    "model_new = LogisticRegression(solver='liblinear', penalty='l1',n_jobs=-1,max_iter=100)"
   ]
  },
  {
   "cell_type": "code",
   "execution_count": 72,
   "id": "7fae553a",
   "metadata": {},
   "outputs": [
    {
     "data": {
      "text/html": [
       "<style>#sk-container-id-2 {color: black;background-color: white;}#sk-container-id-2 pre{padding: 0;}#sk-container-id-2 div.sk-toggleable {background-color: white;}#sk-container-id-2 label.sk-toggleable__label {cursor: pointer;display: block;width: 100%;margin-bottom: 0;padding: 0.3em;box-sizing: border-box;text-align: center;}#sk-container-id-2 label.sk-toggleable__label-arrow:before {content: \"▸\";float: left;margin-right: 0.25em;color: #696969;}#sk-container-id-2 label.sk-toggleable__label-arrow:hover:before {color: black;}#sk-container-id-2 div.sk-estimator:hover label.sk-toggleable__label-arrow:before {color: black;}#sk-container-id-2 div.sk-toggleable__content {max-height: 0;max-width: 0;overflow: hidden;text-align: left;background-color: #f0f8ff;}#sk-container-id-2 div.sk-toggleable__content pre {margin: 0.2em;color: black;border-radius: 0.25em;background-color: #f0f8ff;}#sk-container-id-2 input.sk-toggleable__control:checked~div.sk-toggleable__content {max-height: 200px;max-width: 100%;overflow: auto;}#sk-container-id-2 input.sk-toggleable__control:checked~label.sk-toggleable__label-arrow:before {content: \"▾\";}#sk-container-id-2 div.sk-estimator input.sk-toggleable__control:checked~label.sk-toggleable__label {background-color: #d4ebff;}#sk-container-id-2 div.sk-label input.sk-toggleable__control:checked~label.sk-toggleable__label {background-color: #d4ebff;}#sk-container-id-2 input.sk-hidden--visually {border: 0;clip: rect(1px 1px 1px 1px);clip: rect(1px, 1px, 1px, 1px);height: 1px;margin: -1px;overflow: hidden;padding: 0;position: absolute;width: 1px;}#sk-container-id-2 div.sk-estimator {font-family: monospace;background-color: #f0f8ff;border: 1px dotted black;border-radius: 0.25em;box-sizing: border-box;margin-bottom: 0.5em;}#sk-container-id-2 div.sk-estimator:hover {background-color: #d4ebff;}#sk-container-id-2 div.sk-parallel-item::after {content: \"\";width: 100%;border-bottom: 1px solid gray;flex-grow: 1;}#sk-container-id-2 div.sk-label:hover label.sk-toggleable__label {background-color: #d4ebff;}#sk-container-id-2 div.sk-serial::before {content: \"\";position: absolute;border-left: 1px solid gray;box-sizing: border-box;top: 0;bottom: 0;left: 50%;z-index: 0;}#sk-container-id-2 div.sk-serial {display: flex;flex-direction: column;align-items: center;background-color: white;padding-right: 0.2em;padding-left: 0.2em;position: relative;}#sk-container-id-2 div.sk-item {position: relative;z-index: 1;}#sk-container-id-2 div.sk-parallel {display: flex;align-items: stretch;justify-content: center;background-color: white;position: relative;}#sk-container-id-2 div.sk-item::before, #sk-container-id-2 div.sk-parallel-item::before {content: \"\";position: absolute;border-left: 1px solid gray;box-sizing: border-box;top: 0;bottom: 0;left: 50%;z-index: -1;}#sk-container-id-2 div.sk-parallel-item {display: flex;flex-direction: column;z-index: 1;position: relative;background-color: white;}#sk-container-id-2 div.sk-parallel-item:first-child::after {align-self: flex-end;width: 50%;}#sk-container-id-2 div.sk-parallel-item:last-child::after {align-self: flex-start;width: 50%;}#sk-container-id-2 div.sk-parallel-item:only-child::after {width: 0;}#sk-container-id-2 div.sk-dashed-wrapped {border: 1px dashed gray;margin: 0 0.4em 0.5em 0.4em;box-sizing: border-box;padding-bottom: 0.4em;background-color: white;}#sk-container-id-2 div.sk-label label {font-family: monospace;font-weight: bold;display: inline-block;line-height: 1.2em;}#sk-container-id-2 div.sk-label-container {text-align: center;}#sk-container-id-2 div.sk-container {/* jupyter's `normalize.less` sets `[hidden] { display: none; }` but bootstrap.min.css set `[hidden] { display: none !important; }` so we also need the `!important` here to be able to override the default hidden behavior on the sphinx rendered scikit-learn.org. See: https://github.com/scikit-learn/scikit-learn/issues/21755 */display: inline-block !important;position: relative;}#sk-container-id-2 div.sk-text-repr-fallback {display: none;}</style><div id=\"sk-container-id-2\" class=\"sk-top-container\"><div class=\"sk-text-repr-fallback\"><pre>LogisticRegression(n_jobs=-1, penalty=&#x27;l1&#x27;, solver=&#x27;liblinear&#x27;)</pre><b>In a Jupyter environment, please rerun this cell to show the HTML representation or trust the notebook. <br />On GitHub, the HTML representation is unable to render, please try loading this page with nbviewer.org.</b></div><div class=\"sk-container\" hidden><div class=\"sk-item\"><div class=\"sk-estimator sk-toggleable\"><input class=\"sk-toggleable__control sk-hidden--visually\" id=\"sk-estimator-id-2\" type=\"checkbox\" checked><label for=\"sk-estimator-id-2\" class=\"sk-toggleable__label sk-toggleable__label-arrow\">LogisticRegression</label><div class=\"sk-toggleable__content\"><pre>LogisticRegression(n_jobs=-1, penalty=&#x27;l1&#x27;, solver=&#x27;liblinear&#x27;)</pre></div></div></div></div></div>"
      ],
      "text/plain": [
       "LogisticRegression(n_jobs=-1, penalty='l1', solver='liblinear')"
      ]
     },
     "execution_count": 72,
     "metadata": {},
     "output_type": "execute_result"
    }
   ],
   "source": [
    "model_new.fit(X_train,y_train)"
   ]
  },
  {
   "cell_type": "code",
   "execution_count": 73,
   "id": "f973fe04",
   "metadata": {},
   "outputs": [],
   "source": [
    "y_pred_new = model_new.predict(X_test)"
   ]
  },
  {
   "cell_type": "code",
   "execution_count": 74,
   "id": "ad0c5cf4",
   "metadata": {},
   "outputs": [
    {
     "name": "stdout",
     "output_type": "stream",
     "text": [
      "              precision    recall  f1-score   support\n",
      "\n",
      "   not churn       0.86      0.91      0.88      1036\n",
      "       churn       0.70      0.59      0.64       373\n",
      "\n",
      "    accuracy                           0.82      1409\n",
      "   macro avg       0.78      0.75      0.76      1409\n",
      "weighted avg       0.82      0.82      0.82      1409\n",
      "\n"
     ]
    },
    {
     "data": {
      "image/png": "[encoded data removed]",
      "text/plain": [
       "<Figure size 576x360 with 2 Axes>"
      ]
     },
     "metadata": {
      "needs_background": "light"
     },
     "output_type": "display_data"
    }
   ],
   "source": [
    "cm_model = confusion_matrix(y_test, y_pred_new)\n",
    "\n",
    "labels=[\"not churn\",\"churn\"]\n",
    "\n",
    "print(classification_report(y_test, y_pred_new, target_names = labels))\n",
    "f, ax = plt.subplots(figsize=(8,5))\n",
    "sns.heatmap(cm_model, annot=True, fmt=\".0f\", ax=ax, cmap = 'Blues')\n",
    "\n",
    "ax.xaxis.set_ticklabels(labels)\n",
    "ax.yaxis.set_ticklabels(labels)\n",
    "\n",
    "plt.title('Logistic Regression TRAIN 80%')\n",
    "plt.xlabel('PREDICTED')\n",
    "plt.ylabel('ACTUAL')\n",
    "plt.show()"
   ]
  },
  {
   "cell_type": "code",
   "execution_count": 75,
   "id": "551cc7e7",
   "metadata": {},
   "outputs": [
    {
     "name": "stdout",
     "output_type": "stream",
     "text": [
      "0.8232789212207239\n"
     ]
    }
   ],
   "source": [
    "# Accuracy Before Evaluate\n",
    "print(accuracy_score(y_test,y_pred))"
   ]
  },
  {
   "cell_type": "code",
   "execution_count": 76,
   "id": "354c0836",
   "metadata": {},
   "outputs": [
    {
     "name": "stdout",
     "output_type": "stream",
     "text": [
      "0.8239886444286728\n"
     ]
    }
   ],
   "source": [
    "# Accuracy After Evaluate\n",
    "print(accuracy_score(y_test,y_pred_new))"
   ]
  },
  {
   "cell_type": "code",
   "execution_count": 77,
   "id": "93f6bc25",
   "metadata": {},
   "outputs": [
    {
     "name": "stdout",
     "output_type": "stream",
     "text": [
      "True\n"
     ]
    }
   ],
   "source": [
    "print(accuracy_score(y_test,y_pred_new)>accuracy_score(y_test,y_pred))"
   ]
  },
  {
   "cell_type": "markdown",
   "id": "c48b84d2",
   "metadata": {},
   "source": [
    "- The churn rate is 26.54%, while the customer retention rate is 73.46%.\n",
    "- Customers who stop using the service tend to have higher monthly charges, shorter tenures, and lower total charges.\n",
    "- Female customers are almost as likely to churn as male customers. Young customers are the most likely to churn, while senior customers are the least likely to churn.\n",
    "- Customers who do not have a partner or dependents are more likely to churn. Customers who have phone service are also more likely to churn.\n",
    "- Customers who use fiber optic internet service are more likely to churn than customers who use DSL internet service.\n",
    "- Customers who do not use online security, online backup, device protection, tech support, streaming TV, or movie streaming services are more likely to churn.\n",
    "- Customers with month-to-month contracts are more likely to churn than customers with one-year or two-year contracts. Customers who do not use paperless billing are also more likely to churn.\n",
    "- Customers who use electronic check payment are more likely to churn than customers who use other payment methods.\n",
    "- The accuracy rate of predicting customer churn using machine learning is 82%."
   ]
  },
  {
   "cell_type": "markdown",
   "id": "9fb9bf72",
   "metadata": {},
   "source": [
    "# Recommendation\n",
    "\n",
    "- Offer lower monthly charges to customers with shorter tenures. This may help to offset the higher costs associated with acquiring new customers.\n",
    "- Offer discounts to customers who bundle services. This may help to encourage customers to stay with the company and use more of its services.\n",
    "- Target marketing campaigns to customers who are at risk of churning. This may help to identify and address the specific needs of these customers.\n",
    "- Improve customer service. This may help to resolve customer issues and complaints more quickly and effectively.\n",
    "- Make it easy for customers to switch payment methods. This may help to reduce the number of customers who churn due to frustration with the payment process.\n",
    "- Develop a customer loyalty program. This can help to reward customers for their continued patronage and encourage them to stay with the company.\n"
   ]
  }
 ],
 "metadata": {
  "kernelspec": {
   "display_name": "Python 3 (ipykernel)",
   "language": "python",
   "name": "python3"
  },
  "language_info": {
   "codemirror_mode": {
    "name": "ipython",
    "version": 3
   },
   "file_extension": ".py",
   "mimetype": "text/x-python",
   "name": "python",
   "nbconvert_exporter": "python",
   "pygments_lexer": "ipython3",
   "version": "3.9.12"
  }
 },
 "nbformat": 4,
 "nbformat_minor": 5
}
